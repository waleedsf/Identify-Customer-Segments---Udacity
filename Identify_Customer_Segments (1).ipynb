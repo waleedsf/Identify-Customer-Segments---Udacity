{
 "cells": [
  {
   "cell_type": "markdown",
   "metadata": {},
   "source": [
    "# Project: Identify Customer Segments\n",
    "\n",
    "In this project, you will apply unsupervised learning techniques to identify segments of the population that form the core customer base for a mail-order sales company in Germany. These segments can then be used to direct marketing campaigns towards audiences that will have the highest expected rate of returns. The data that you will use has been provided by our partners at Bertelsmann Arvato Analytics, and represents a real-life data science task.\n",
    "\n",
    "This notebook will help you complete this task by providing a framework within which you will perform your analysis steps. In each step of the project, you will see some text describing the subtask that you will perform, followed by one or more code cells for you to complete your work. **Feel free to add additional code and markdown cells as you go along so that you can explore everything in precise chunks.** The code cells provided in the base template will outline only the major tasks, and will usually not be enough to cover all of the minor tasks that comprise it.\n",
    "\n",
    "It should be noted that while there will be precise guidelines on how you should handle certain tasks in the project, there will also be places where an exact specification is not provided. **There will be times in the project where you will need to make and justify your own decisions on how to treat the data.** These are places where there may not be only one way to handle the data. In real-life tasks, there may be many valid ways to approach an analysis task. One of the most important things you can do is clearly document your approach so that other scientists can understand the decisions you've made.\n",
    "\n",
    "At the end of most sections, there will be a Markdown cell labeled **Discussion**. In these cells, you will report your findings for the completed section, as well as document the decisions that you made in your approach to each subtask. **Your project will be evaluated not just on the code used to complete the tasks outlined, but also your communication about your observations and conclusions at each stage.**"
   ]
  },
  {
   "cell_type": "code",
   "execution_count": 1,
   "metadata": {},
   "outputs": [
    {
     "data": {
      "text/plain": [
       "'\\nImport note: The classroom currently uses sklearn version 0.19.\\nIf you need to use an imputer, it is available in sklearn.preprocessing.Imputer,\\ninstead of sklearn.impute as in newer versions of sklearn.\\n'"
      ]
     },
     "execution_count": 1,
     "metadata": {},
     "output_type": "execute_result"
    }
   ],
   "source": [
    "# import libraries here; add more as necessary\n",
    "import numpy as np\n",
    "import pandas as pd\n",
    "import matplotlib.pyplot as plt\n",
    "import seaborn as sns\n",
    "\n",
    "\n",
    "# magic word for producing visualizations in notebook\n",
    "%matplotlib inline\n",
    "\n",
    "'''\n",
    "Import note: The classroom currently uses sklearn version 0.19.\n",
    "If you need to use an imputer, it is available in sklearn.preprocessing.Imputer,\n",
    "instead of sklearn.impute as in newer versions of sklearn.\n",
    "'''"
   ]
  },
  {
   "cell_type": "markdown",
   "metadata": {},
   "source": [
    "### Step 0: Load the Data\n",
    "\n",
    "There are four files associated with this project (not including this one):\n",
    "\n",
    "- `Udacity_AZDIAS_Subset.csv`: Demographics data for the general population of Germany; 891211 persons (rows) x 85 features (columns).\n",
    "- `Udacity_CUSTOMERS_Subset.csv`: Demographics data for customers of a mail-order company; 191652 persons (rows) x 85 features (columns).\n",
    "- `Data_Dictionary.md`: Detailed information file about the features in the provided datasets.\n",
    "- `AZDIAS_Feature_Summary.csv`: Summary of feature attributes for demographics data; 85 features (rows) x 4 columns\n",
    "\n",
    "Each row of the demographics files represents a single person, but also includes information outside of individuals, including information about their household, building, and neighborhood. You will use this information to cluster the general population into groups with similar demographic properties. Then, you will see how the people in the customers dataset fit into those created clusters. The hope here is that certain clusters are over-represented in the customers data, as compared to the general population; those over-represented clusters will be assumed to be part of the core userbase. This information can then be used for further applications, such as targeting for a marketing campaign.\n",
    "\n",
    "To start off with, load in the demographics data for the general population into a pandas DataFrame, and do the same for the feature attributes summary. Note for all of the `.csv` data files in this project: they're semicolon (`;`) delimited, so you'll need an additional argument in your [`read_csv()`](https://pandas.pydata.org/pandas-docs/stable/generated/pandas.read_csv.html) call to read in the data properly. Also, considering the size of the main dataset, it may take some time for it to load completely.\n",
    "\n",
    "Once the dataset is loaded, it's recommended that you take a little bit of time just browsing the general structure of the dataset and feature summary file. You'll be getting deep into the innards of the cleaning in the first major step of the project, so gaining some general familiarity can help you get your bearings."
   ]
  },
  {
   "cell_type": "code",
   "execution_count": 2,
   "metadata": {},
   "outputs": [],
   "source": [
    "# Load in the general demographics data.\n",
    "azdias = pd.read_csv(\"Udacity_AZDIAS_Subset.csv\" , sep=\";\")\n",
    "\n",
    "# Load in the feature summary file.\n",
    "feat_info = pd.read_csv(\"AZDIAS_Feature_Summary.csv\" , sep=\";\")"
   ]
  },
  {
   "cell_type": "markdown",
   "metadata": {},
   "source": []
  },
  {
   "cell_type": "markdown",
   "metadata": {},
   "source": [
    "> **Tip**: Add additional cells to keep everything in reasonably-sized chunks! Keyboard shortcut `esc --> a` (press escape to enter command mode, then press the 'A' key) adds a new cell before the active cell, and `esc --> b` adds a new cell after the active cell. If you need to convert an active cell to a markdown cell, use `esc --> m` and to convert to a code cell, use `esc --> y`. \n",
    "\n",
    "## Step 1: Preprocessing\n",
    "\n",
    "### Step 1.1: Assess Missing Data\n",
    "\n",
    "The feature summary file contains a summary of properties for each demographics data column. You will use this file to help you make cleaning decisions during this stage of the project. First of all, you should assess the demographics data in terms of missing data. Pay attention to the following points as you perform your analysis, and take notes on what you observe. Make sure that you fill in the **Discussion** cell with your findings and decisions at the end of each step that has one!\n",
    "\n",
    "#### Step 1.1.1: Convert Missing Value Codes to NaNs\n",
    "The fourth column of the feature attributes summary (loaded in above as `feat_info`) documents the codes from the data dictionary that indicate missing or unknown data. While the file encodes this as a list (e.g. `[-1,0]`), this will get read in as a string object. You'll need to do a little bit of parsing to make use of it to identify and clean the data. Convert data that matches a 'missing' or 'unknown' value code into a numpy NaN value. You might want to see how much data takes on a 'missing' or 'unknown' code, and how much data is naturally missing, as a point of interest.\n",
    "\n",
    "**As one more reminder, you are encouraged to add additional cells to break up your analysis into manageable chunks.**"
   ]
  },
  {
   "cell_type": "code",
   "execution_count": 3,
   "metadata": {},
   "outputs": [
    {
     "name": "stdout",
     "output_type": "stream",
     "text": [
      "Naturally missing data = 4896838\n"
     ]
    }
   ],
   "source": [
    "naturally_missing = azdias.isnull().sum().sum()\n",
    "print(\"Naturally missing data = {}\".format(naturally_missing))\n"
   ]
  },
  {
   "cell_type": "markdown",
   "metadata": {},
   "source": [
    "https://github.com/Kusainov/udacity-identify-customers-segments/blob/master/Identify_Customer_Segments.ipynb"
   ]
  },
  {
   "cell_type": "code",
   "execution_count": 4,
   "metadata": {},
   "outputs": [],
   "source": [
    "# # Identify missing or unknown data values and convert them to NaNs.\n",
    "# for index, row in feat_info.iterrows():\n",
    "#     feature_name = row['attribute']\n",
    "#     temp_str = row['missing_or_unknown'].strip('[] ')\n",
    "#     temp_list = []\n",
    "#     if temp_str:\n",
    "#         temp_list = temp_str.split(',')\n",
    "#     missing_or_unknown_list = [ int(val.strip()) if val.strip(' -').isdigit() else val.strip() for val in temp_list ]\n",
    "#     if missing_or_unknown_list:\n",
    "#         azdias.loc[azdias[feature_name].isin(missing_or_unknown_list), feature_name] = np.nan"
   ]
  },
  {
   "cell_type": "code",
   "execution_count": 3,
   "metadata": {},
   "outputs": [],
   "source": [
    "for attribute, miss_index in zip(feat_info['attribute'], feat_info['missing_or_unknown']):\n",
    "    missing_values = miss_index.strip('[]').split(',')\n",
    "    missing_values = [int(value) if (value!='X' and value!='XX' and value!='') else value for value in missing_values]\n",
    "    if missing_values != ['']:\n",
    "        azdias[attribute] = azdias[attribute].replace(missing_values, np.nan)"
   ]
  },
  {
   "cell_type": "code",
   "execution_count": 4,
   "metadata": {},
   "outputs": [
    {
     "name": "stdout",
     "output_type": "stream",
     "text": [
      "After parsing NaN data = 8373929\n"
     ]
    }
   ],
   "source": [
    "miss_aft_pars = azdias.isnull().sum().sum()\n",
    "\n",
    "print(\"After parsing NaN data = {}\".format(miss_aft_pars))\n"
   ]
  },
  {
   "cell_type": "markdown",
   "metadata": {},
   "source": [
    "#### Step 1.1.2: Assess Missing Data in Each Column\n",
    "\n",
    "How much missing data is present in each column? There are a few columns that are outliers in terms of the proportion of values that are missing. You will want to use matplotlib's [`hist()`](https://matplotlib.org/api/_as_gen/matplotlib.pyplot.hist.html) function to visualize the distribution of missing value counts to find these columns. Identify and document these columns. While some of these columns might have justifications for keeping or re-encoding the data, for this project you should just remove them from the dataframe. (Feel free to make remarks about these outlier columns in the discussion, however!)\n",
    "\n",
    "For the remaining features, are there any patterns in which columns have, or share, missing data?"
   ]
  },
  {
   "cell_type": "code",
   "execution_count": 11,
   "metadata": {},
   "outputs": [
    {
     "data": {
      "text/plain": [
       "Text(0,0.5,'number of columns')"
      ]
     },
     "execution_count": 11,
     "metadata": {},
     "output_type": "execute_result"
    },
    {
     "data": {
      "image/png": "[encoded data removed]",
      "text/plain": [
       "<matplotlib.figure.Figure at 0x7f685319d160>"
      ]
     },
     "metadata": {
      "needs_background": "light"
     },
     "output_type": "display_data"
    }
   ],
   "source": [
    "check_nan_columns = azdias.isnull().sum()\n",
    "check_nan_columns = check_nan_columns[check_nan_columns !=0]\n",
    "check_nan_columns.hist(figsize=(8,8), bins = 25,color=\"#32B5C9\", ec=\"black\", grid=False)\n",
    "plt.xlabel(\"missing values\")\n",
    "plt.ylabel(\"number of columns\")\n",
    "\n"
   ]
  },
  {
   "cell_type": "code",
   "execution_count": 12,
   "metadata": {},
   "outputs": [
    {
     "data": {
      "image/png": "[encoded data removed]",
      "text/plain": [
       "<matplotlib.figure.Figure at 0x7f68530fa160>"
      ]
     },
     "metadata": {
      "needs_background": "light"
     },
     "output_type": "display_data"
    }
   ],
   "source": [
    "# Perform an assessment of how much missing data there is in each column of the\n",
    "# dataset.\n",
    "\n",
    "# Invistigating with bar plot \n",
    "\n",
    "check_nan_columns.sort_values(inplace=True)\n",
    "check_nan_columns.plot.bar(figsize=(20,20))\n",
    "plt.ylabel(\"missing values\")\n",
    "plt.show()"
   ]
  },
  {
   "cell_type": "markdown",
   "metadata": {},
   "source": [
    "###  Some attirbutes will get droped as they seems like they are missing a lot of values "
   ]
  },
  {
   "cell_type": "code",
   "execution_count": 8,
   "metadata": {},
   "outputs": [
    {
     "data": {
      "text/plain": [
       "ALTERSKATEGORIE_GROB       2881\n",
       "CJT_GESAMTTYP              4854\n",
       "GFK_URLAUBERTYP            4854\n",
       "ONLINE_AFFINITAET          4854\n",
       "RETOURTYP_BK_S             4854\n",
       "LP_STATUS_FEIN             4854\n",
       "LP_STATUS_GROB             4854\n",
       "HH_EINKOMMEN_SCORE        18348\n",
       "ANZ_PERSONEN              73499\n",
       "SOHO_KZ                   73499\n",
       "ANZ_TITEL                 73499\n",
       "WOHNDAUER_2008            73499\n",
       "KONSUMNAEHE               73969\n",
       "LP_FAMILIE_GROB           77792\n",
       "LP_FAMILIE_FEIN           77792\n",
       "GEBAEUDETYP               93148\n",
       "WOHNLAGE                  93148\n",
       "OST_WEST_KZ               93148\n",
       "MIN_GEBAEUDEJAHR          93148\n",
       "GEBAEUDETYP_RASTER        93155\n",
       "EWDICHTE                  93740\n",
       "BALLRAUM                  93740\n",
       "INNENSTADT                93740\n",
       "LP_LEBENSPHASE_GROB       94572\n",
       "ANZ_HH_TITEL              97008\n",
       "ORTSGR_KLS9               97274\n",
       "ARBEIT                    97375\n",
       "RELAT_AB                  97375\n",
       "LP_LEBENSPHASE_FEIN       97632\n",
       "CAMEO_DEUG_2015           99352\n",
       "                          ...  \n",
       "CAMEO_INTL_2015           99352\n",
       "ANZ_HAUSHALTE_AKTIV       99611\n",
       "KBA13_ANZAHL_PKW         105800\n",
       "PRAEGENDE_JUGENDJAHRE    108164\n",
       "NATIONALITAET_KZ         108315\n",
       "HEALTH_TYP               111196\n",
       "VERS_TYP                 111196\n",
       "SHOPPER_TYP              111196\n",
       "PLZ8_ANTG2               116515\n",
       "PLZ8_ANTG3               116515\n",
       "PLZ8_ANTG1               116515\n",
       "PLZ8_ANTG4               116515\n",
       "PLZ8_BAUMAX              116515\n",
       "PLZ8_HHZ                 116515\n",
       "PLZ8_GBZ                 116515\n",
       "KBA05_ANTG3              133324\n",
       "KBA05_ANTG2              133324\n",
       "KBA05_ANTG1              133324\n",
       "MOBI_REGIO               133324\n",
       "KBA05_GBZ                133324\n",
       "KBA05_ANTG4              133324\n",
       "W_KEIT_KIND_HH           147988\n",
       "KKK                      158064\n",
       "REGIOTYP                 158064\n",
       "ALTER_HH                 310267\n",
       "GEBURTSJAHR              392318\n",
       "KBA05_BAUMAX             476524\n",
       "KK_KUNDENTYP             584612\n",
       "AGER_TYP                 685843\n",
       "TITEL_KZ                 889061\n",
       "Length: 61, dtype: int64"
      ]
     },
     "execution_count": 8,
     "metadata": {},
     "output_type": "execute_result"
    }
   ],
   "source": [
    "# Investigate patterns in the amount of missing data in each column.\n",
    "check_nan_columns\n",
    "\n"
   ]
  },
  {
   "cell_type": "code",
   "execution_count": 13,
   "metadata": {},
   "outputs": [],
   "source": [
    "# Remove the outlier columns from the dataset. (You'll perform other data\n",
    "# engineering tasks such as re-encoding and imputation later.)\n",
    "\n",
    "outliers_col = check_nan_columns[check_nan_columns > 300000]\n",
    "\n",
    "azdias_no_outliers = azdias.drop(outliers_col.index , axis=1)\n",
    "\n"
   ]
  },
  {
   "cell_type": "code",
   "execution_count": 14,
   "metadata": {},
   "outputs": [
    {
     "name": "stdout",
     "output_type": "stream",
     "text": [
      "outlier_columns num missing values\n"
     ]
    },
    {
     "data": {
      "text/plain": [
       "ALTER_HH        310267\n",
       "GEBURTSJAHR     392318\n",
       "KBA05_BAUMAX    476524\n",
       "KK_KUNDENTYP    584612\n",
       "AGER_TYP        685843\n",
       "TITEL_KZ        889061\n",
       "dtype: int64"
      ]
     },
     "execution_count": 14,
     "metadata": {},
     "output_type": "execute_result"
    }
   ],
   "source": [
    "print(\"outlier_columns num missing values\")\n",
    "outliers_col"
   ]
  },
  {
   "cell_type": "code",
   "execution_count": 15,
   "metadata": {},
   "outputs": [
    {
     "data": {
      "text/html": [
       "<div>\n",
       "<style scoped>\n",
       "    .dataframe tbody tr th:only-of-type {\n",
       "        vertical-align: middle;\n",
       "    }\n",
       "\n",
       "    .dataframe tbody tr th {\n",
       "        vertical-align: top;\n",
       "    }\n",
       "\n",
       "    .dataframe thead th {\n",
       "        text-align: right;\n",
       "    }\n",
       "</style>\n",
       "<table border=\"1\" class=\"dataframe\">\n",
       "  <thead>\n",
       "    <tr style=\"text-align: right;\">\n",
       "      <th></th>\n",
       "      <th>ALTERSKATEGORIE_GROB</th>\n",
       "      <th>ANREDE_KZ</th>\n",
       "      <th>CJT_GESAMTTYP</th>\n",
       "      <th>FINANZ_MINIMALIST</th>\n",
       "      <th>FINANZ_SPARER</th>\n",
       "      <th>FINANZ_VORSORGER</th>\n",
       "      <th>FINANZ_ANLEGER</th>\n",
       "      <th>FINANZ_UNAUFFAELLIGER</th>\n",
       "      <th>FINANZ_HAUSBAUER</th>\n",
       "      <th>FINANZTYP</th>\n",
       "      <th>...</th>\n",
       "      <th>PLZ8_ANTG1</th>\n",
       "      <th>PLZ8_ANTG2</th>\n",
       "      <th>PLZ8_ANTG3</th>\n",
       "      <th>PLZ8_ANTG4</th>\n",
       "      <th>PLZ8_BAUMAX</th>\n",
       "      <th>PLZ8_HHZ</th>\n",
       "      <th>PLZ8_GBZ</th>\n",
       "      <th>ARBEIT</th>\n",
       "      <th>ORTSGR_KLS9</th>\n",
       "      <th>RELAT_AB</th>\n",
       "    </tr>\n",
       "  </thead>\n",
       "  <tbody>\n",
       "    <tr>\n",
       "      <th>0</th>\n",
       "      <td>2.0</td>\n",
       "      <td>1</td>\n",
       "      <td>2.0</td>\n",
       "      <td>3</td>\n",
       "      <td>4</td>\n",
       "      <td>3</td>\n",
       "      <td>5</td>\n",
       "      <td>5</td>\n",
       "      <td>3</td>\n",
       "      <td>4</td>\n",
       "      <td>...</td>\n",
       "      <td>NaN</td>\n",
       "      <td>NaN</td>\n",
       "      <td>NaN</td>\n",
       "      <td>NaN</td>\n",
       "      <td>NaN</td>\n",
       "      <td>NaN</td>\n",
       "      <td>NaN</td>\n",
       "      <td>NaN</td>\n",
       "      <td>NaN</td>\n",
       "      <td>NaN</td>\n",
       "    </tr>\n",
       "    <tr>\n",
       "      <th>1</th>\n",
       "      <td>1.0</td>\n",
       "      <td>2</td>\n",
       "      <td>5.0</td>\n",
       "      <td>1</td>\n",
       "      <td>5</td>\n",
       "      <td>2</td>\n",
       "      <td>5</td>\n",
       "      <td>4</td>\n",
       "      <td>5</td>\n",
       "      <td>1</td>\n",
       "      <td>...</td>\n",
       "      <td>2.0</td>\n",
       "      <td>3.0</td>\n",
       "      <td>2.0</td>\n",
       "      <td>1.0</td>\n",
       "      <td>1.0</td>\n",
       "      <td>5.0</td>\n",
       "      <td>4.0</td>\n",
       "      <td>3.0</td>\n",
       "      <td>5.0</td>\n",
       "      <td>4.0</td>\n",
       "    </tr>\n",
       "    <tr>\n",
       "      <th>2</th>\n",
       "      <td>3.0</td>\n",
       "      <td>2</td>\n",
       "      <td>3.0</td>\n",
       "      <td>1</td>\n",
       "      <td>4</td>\n",
       "      <td>1</td>\n",
       "      <td>2</td>\n",
       "      <td>3</td>\n",
       "      <td>5</td>\n",
       "      <td>1</td>\n",
       "      <td>...</td>\n",
       "      <td>3.0</td>\n",
       "      <td>3.0</td>\n",
       "      <td>1.0</td>\n",
       "      <td>0.0</td>\n",
       "      <td>1.0</td>\n",
       "      <td>4.0</td>\n",
       "      <td>4.0</td>\n",
       "      <td>3.0</td>\n",
       "      <td>5.0</td>\n",
       "      <td>2.0</td>\n",
       "    </tr>\n",
       "    <tr>\n",
       "      <th>3</th>\n",
       "      <td>4.0</td>\n",
       "      <td>2</td>\n",
       "      <td>2.0</td>\n",
       "      <td>4</td>\n",
       "      <td>2</td>\n",
       "      <td>5</td>\n",
       "      <td>2</td>\n",
       "      <td>1</td>\n",
       "      <td>2</td>\n",
       "      <td>6</td>\n",
       "      <td>...</td>\n",
       "      <td>2.0</td>\n",
       "      <td>2.0</td>\n",
       "      <td>2.0</td>\n",
       "      <td>0.0</td>\n",
       "      <td>1.0</td>\n",
       "      <td>3.0</td>\n",
       "      <td>4.0</td>\n",
       "      <td>2.0</td>\n",
       "      <td>3.0</td>\n",
       "      <td>3.0</td>\n",
       "    </tr>\n",
       "    <tr>\n",
       "      <th>4</th>\n",
       "      <td>3.0</td>\n",
       "      <td>1</td>\n",
       "      <td>5.0</td>\n",
       "      <td>4</td>\n",
       "      <td>3</td>\n",
       "      <td>4</td>\n",
       "      <td>1</td>\n",
       "      <td>3</td>\n",
       "      <td>2</td>\n",
       "      <td>5</td>\n",
       "      <td>...</td>\n",
       "      <td>2.0</td>\n",
       "      <td>4.0</td>\n",
       "      <td>2.0</td>\n",
       "      <td>1.0</td>\n",
       "      <td>2.0</td>\n",
       "      <td>3.0</td>\n",
       "      <td>3.0</td>\n",
       "      <td>4.0</td>\n",
       "      <td>6.0</td>\n",
       "      <td>5.0</td>\n",
       "    </tr>\n",
       "  </tbody>\n",
       "</table>\n",
       "<p>5 rows × 79 columns</p>\n",
       "</div>"
      ],
      "text/plain": [
       "   ALTERSKATEGORIE_GROB  ANREDE_KZ  CJT_GESAMTTYP  FINANZ_MINIMALIST  \\\n",
       "0                   2.0          1            2.0                  3   \n",
       "1                   1.0          2            5.0                  1   \n",
       "2                   3.0          2            3.0                  1   \n",
       "3                   4.0          2            2.0                  4   \n",
       "4                   3.0          1            5.0                  4   \n",
       "\n",
       "   FINANZ_SPARER  FINANZ_VORSORGER  FINANZ_ANLEGER  FINANZ_UNAUFFAELLIGER  \\\n",
       "0              4                 3               5                      5   \n",
       "1              5                 2               5                      4   \n",
       "2              4                 1               2                      3   \n",
       "3              2                 5               2                      1   \n",
       "4              3                 4               1                      3   \n",
       "\n",
       "   FINANZ_HAUSBAUER  FINANZTYP    ...     PLZ8_ANTG1  PLZ8_ANTG2  PLZ8_ANTG3  \\\n",
       "0                 3          4    ...            NaN         NaN         NaN   \n",
       "1                 5          1    ...            2.0         3.0         2.0   \n",
       "2                 5          1    ...            3.0         3.0         1.0   \n",
       "3                 2          6    ...            2.0         2.0         2.0   \n",
       "4                 2          5    ...            2.0         4.0         2.0   \n",
       "\n",
       "   PLZ8_ANTG4  PLZ8_BAUMAX  PLZ8_HHZ  PLZ8_GBZ  ARBEIT  ORTSGR_KLS9  RELAT_AB  \n",
       "0         NaN          NaN       NaN       NaN     NaN          NaN       NaN  \n",
       "1         1.0          1.0       5.0       4.0     3.0          5.0       4.0  \n",
       "2         0.0          1.0       4.0       4.0     3.0          5.0       2.0  \n",
       "3         0.0          1.0       3.0       4.0     2.0          3.0       3.0  \n",
       "4         1.0          2.0       3.0       3.0     4.0          6.0       5.0  \n",
       "\n",
       "[5 rows x 79 columns]"
      ]
     },
     "execution_count": 15,
     "metadata": {},
     "output_type": "execute_result"
    }
   ],
   "source": [
    "azdias_no_outliers.head()"
   ]
  },
  {
   "cell_type": "code",
   "execution_count": 12,
   "metadata": {},
   "outputs": [],
   "source": [
    "# azdias_no_outliers.plot.bar(figsize=(20,20))\n",
    "# azdias_no_outliers.sort_values(inplace=True)\n",
    "# plt.ylabel(\"missing values\")\n",
    "# plt.show()"
   ]
  },
  {
   "cell_type": "markdown",
   "metadata": {},
   "source": [
    "#### Discussion 1.1.2: Assess Missing Data in Each Column\n",
    "\n",
    "(Double click this cell and replace this text with your own text, reporting your observations regarding the amount of missing data in each column. Are there any patterns in missing values? Which columns were removed from the dataset?)\n",
    "\n",
    "\n",
    "-Six columns been have been droped since they contains many nan values:\n",
    "- ALTER_HH        \n",
    "- GEBURTSJAHR     \n",
    "- KBA05_BAUMAX    \n",
    "- KK_KUNDENTYP    \n",
    "- AGER_TYP        \n",
    "- TITEL_KZ    \n"
   ]
  },
  {
   "cell_type": "markdown",
   "metadata": {},
   "source": [
    "#### Step 1.1.3: Assess Missing Data in Each Row\n",
    "\n",
    "Now, you'll perform a similar assessment for the rows of the dataset. How much data is missing in each row? As with the columns, you should see some groups of points that have a very different numbers of missing values. Divide the data into two subsets: one for data points that are above some threshold for missing values, and a second subset for points below that threshold.\n",
    "\n",
    "In order to know what to do with the outlier rows, we should see if the distribution of data values on columns that are not missing data (or are missing very little data) are similar or different between the two groups. Select at least five of these columns and compare the distribution of values.\n",
    "- You can use seaborn's [`countplot()`](https://seaborn.pydata.org/generated/seaborn.countplot.html) function to create a bar chart of code frequencies and matplotlib's [`subplot()`](https://matplotlib.org/api/_as_gen/matplotlib.pyplot.subplot.html) function to put bar charts for the two subplots side by side.\n",
    "- To reduce repeated code, you might want to write a function that can perform this comparison, taking as one of its arguments a column to be compared.\n",
    "\n",
    "Depending on what you observe in your comparison, this will have implications on how you approach your conclusions later in the analysis. If the distributions of non-missing features look similar between the data with many missing values and the data with few or no missing values, then we could argue that simply dropping those points from the analysis won't present a major issue. On the other hand, if the data with many missing values looks very different from the data with few or no missing values, then we should make a note on those data as special. We'll revisit these data later on. **Either way, you should continue your analysis for now using just the subset of the data with few or no missing values.**"
   ]
  },
  {
   "cell_type": "code",
   "execution_count": 13,
   "metadata": {},
   "outputs": [
    {
     "data": {
      "text/html": [
       "<div>\n",
       "<style scoped>\n",
       "    .dataframe tbody tr th:only-of-type {\n",
       "        vertical-align: middle;\n",
       "    }\n",
       "\n",
       "    .dataframe tbody tr th {\n",
       "        vertical-align: top;\n",
       "    }\n",
       "\n",
       "    .dataframe thead th {\n",
       "        text-align: right;\n",
       "    }\n",
       "</style>\n",
       "<table border=\"1\" class=\"dataframe\">\n",
       "  <thead>\n",
       "    <tr style=\"text-align: right;\">\n",
       "      <th></th>\n",
       "      <th>ALTERSKATEGORIE_GROB</th>\n",
       "      <th>ANREDE_KZ</th>\n",
       "      <th>CJT_GESAMTTYP</th>\n",
       "      <th>FINANZ_MINIMALIST</th>\n",
       "      <th>FINANZ_SPARER</th>\n",
       "      <th>FINANZ_VORSORGER</th>\n",
       "      <th>FINANZ_ANLEGER</th>\n",
       "      <th>FINANZ_UNAUFFAELLIGER</th>\n",
       "      <th>FINANZ_HAUSBAUER</th>\n",
       "      <th>FINANZTYP</th>\n",
       "      <th>...</th>\n",
       "      <th>PLZ8_ANTG1</th>\n",
       "      <th>PLZ8_ANTG2</th>\n",
       "      <th>PLZ8_ANTG3</th>\n",
       "      <th>PLZ8_ANTG4</th>\n",
       "      <th>PLZ8_BAUMAX</th>\n",
       "      <th>PLZ8_HHZ</th>\n",
       "      <th>PLZ8_GBZ</th>\n",
       "      <th>ARBEIT</th>\n",
       "      <th>ORTSGR_KLS9</th>\n",
       "      <th>RELAT_AB</th>\n",
       "    </tr>\n",
       "  </thead>\n",
       "  <tbody>\n",
       "    <tr>\n",
       "      <th>0</th>\n",
       "      <td>2.0</td>\n",
       "      <td>1.0</td>\n",
       "      <td>2.0</td>\n",
       "      <td>3.0</td>\n",
       "      <td>4.0</td>\n",
       "      <td>3.0</td>\n",
       "      <td>5.0</td>\n",
       "      <td>5.0</td>\n",
       "      <td>3.0</td>\n",
       "      <td>4.0</td>\n",
       "      <td>...</td>\n",
       "      <td>NaN</td>\n",
       "      <td>NaN</td>\n",
       "      <td>NaN</td>\n",
       "      <td>NaN</td>\n",
       "      <td>NaN</td>\n",
       "      <td>NaN</td>\n",
       "      <td>NaN</td>\n",
       "      <td>NaN</td>\n",
       "      <td>NaN</td>\n",
       "      <td>NaN</td>\n",
       "    </tr>\n",
       "    <tr>\n",
       "      <th>1</th>\n",
       "      <td>1.0</td>\n",
       "      <td>2.0</td>\n",
       "      <td>5.0</td>\n",
       "      <td>1.0</td>\n",
       "      <td>5.0</td>\n",
       "      <td>2.0</td>\n",
       "      <td>5.0</td>\n",
       "      <td>4.0</td>\n",
       "      <td>5.0</td>\n",
       "      <td>1.0</td>\n",
       "      <td>...</td>\n",
       "      <td>2.0</td>\n",
       "      <td>3.0</td>\n",
       "      <td>2.0</td>\n",
       "      <td>1.0</td>\n",
       "      <td>1.0</td>\n",
       "      <td>5.0</td>\n",
       "      <td>4.0</td>\n",
       "      <td>3.0</td>\n",
       "      <td>5.0</td>\n",
       "      <td>4.0</td>\n",
       "    </tr>\n",
       "    <tr>\n",
       "      <th>2</th>\n",
       "      <td>3.0</td>\n",
       "      <td>2.0</td>\n",
       "      <td>3.0</td>\n",
       "      <td>1.0</td>\n",
       "      <td>4.0</td>\n",
       "      <td>1.0</td>\n",
       "      <td>2.0</td>\n",
       "      <td>3.0</td>\n",
       "      <td>5.0</td>\n",
       "      <td>1.0</td>\n",
       "      <td>...</td>\n",
       "      <td>3.0</td>\n",
       "      <td>3.0</td>\n",
       "      <td>1.0</td>\n",
       "      <td>0.0</td>\n",
       "      <td>1.0</td>\n",
       "      <td>4.0</td>\n",
       "      <td>4.0</td>\n",
       "      <td>3.0</td>\n",
       "      <td>5.0</td>\n",
       "      <td>2.0</td>\n",
       "    </tr>\n",
       "    <tr>\n",
       "      <th>3</th>\n",
       "      <td>4.0</td>\n",
       "      <td>2.0</td>\n",
       "      <td>2.0</td>\n",
       "      <td>4.0</td>\n",
       "      <td>2.0</td>\n",
       "      <td>5.0</td>\n",
       "      <td>2.0</td>\n",
       "      <td>1.0</td>\n",
       "      <td>2.0</td>\n",
       "      <td>6.0</td>\n",
       "      <td>...</td>\n",
       "      <td>2.0</td>\n",
       "      <td>2.0</td>\n",
       "      <td>2.0</td>\n",
       "      <td>0.0</td>\n",
       "      <td>1.0</td>\n",
       "      <td>3.0</td>\n",
       "      <td>4.0</td>\n",
       "      <td>2.0</td>\n",
       "      <td>3.0</td>\n",
       "      <td>3.0</td>\n",
       "    </tr>\n",
       "    <tr>\n",
       "      <th>4</th>\n",
       "      <td>3.0</td>\n",
       "      <td>1.0</td>\n",
       "      <td>5.0</td>\n",
       "      <td>4.0</td>\n",
       "      <td>3.0</td>\n",
       "      <td>4.0</td>\n",
       "      <td>1.0</td>\n",
       "      <td>3.0</td>\n",
       "      <td>2.0</td>\n",
       "      <td>5.0</td>\n",
       "      <td>...</td>\n",
       "      <td>2.0</td>\n",
       "      <td>4.0</td>\n",
       "      <td>2.0</td>\n",
       "      <td>1.0</td>\n",
       "      <td>2.0</td>\n",
       "      <td>3.0</td>\n",
       "      <td>3.0</td>\n",
       "      <td>4.0</td>\n",
       "      <td>6.0</td>\n",
       "      <td>5.0</td>\n",
       "    </tr>\n",
       "  </tbody>\n",
       "</table>\n",
       "<p>5 rows × 79 columns</p>\n",
       "</div>"
      ],
      "text/plain": [
       "   ALTERSKATEGORIE_GROB  ANREDE_KZ  CJT_GESAMTTYP  FINANZ_MINIMALIST  \\\n",
       "0                   2.0        1.0            2.0                3.0   \n",
       "1                   1.0        2.0            5.0                1.0   \n",
       "2                   3.0        2.0            3.0                1.0   \n",
       "3                   4.0        2.0            2.0                4.0   \n",
       "4                   3.0        1.0            5.0                4.0   \n",
       "\n",
       "   FINANZ_SPARER  FINANZ_VORSORGER  FINANZ_ANLEGER  FINANZ_UNAUFFAELLIGER  \\\n",
       "0            4.0               3.0             5.0                    5.0   \n",
       "1            5.0               2.0             5.0                    4.0   \n",
       "2            4.0               1.0             2.0                    3.0   \n",
       "3            2.0               5.0             2.0                    1.0   \n",
       "4            3.0               4.0             1.0                    3.0   \n",
       "\n",
       "   FINANZ_HAUSBAUER  FINANZTYP    ...     PLZ8_ANTG1  PLZ8_ANTG2  PLZ8_ANTG3  \\\n",
       "0               3.0        4.0    ...            NaN         NaN         NaN   \n",
       "1               5.0        1.0    ...            2.0         3.0         2.0   \n",
       "2               5.0        1.0    ...            3.0         3.0         1.0   \n",
       "3               2.0        6.0    ...            2.0         2.0         2.0   \n",
       "4               2.0        5.0    ...            2.0         4.0         2.0   \n",
       "\n",
       "   PLZ8_ANTG4  PLZ8_BAUMAX  PLZ8_HHZ  PLZ8_GBZ  ARBEIT  ORTSGR_KLS9  RELAT_AB  \n",
       "0         NaN          NaN       NaN       NaN     NaN          NaN       NaN  \n",
       "1         1.0          1.0       5.0       4.0     3.0          5.0       4.0  \n",
       "2         0.0          1.0       4.0       4.0     3.0          5.0       2.0  \n",
       "3         0.0          1.0       3.0       4.0     2.0          3.0       3.0  \n",
       "4         1.0          2.0       3.0       3.0     4.0          6.0       5.0  \n",
       "\n",
       "[5 rows x 79 columns]"
      ]
     },
     "execution_count": 13,
     "metadata": {},
     "output_type": "execute_result"
    }
   ],
   "source": [
    "azdias_no_outliers.head()"
   ]
  },
  {
   "cell_type": "code",
   "execution_count": 17,
   "metadata": {},
   "outputs": [
    {
     "data": {
      "text/plain": [
       "Text(0,0.5,'number of rows')"
      ]
     },
     "execution_count": 17,
     "metadata": {},
     "output_type": "execute_result"
    },
    {
     "data": {
      "image/png": "[encoded data removed]",
      "text/plain": [
       "<matplotlib.figure.Figure at 0x7f6852f89c18>"
      ]
     },
     "metadata": {
      "needs_background": "light"
     },
     "output_type": "display_data"
    }
   ],
   "source": [
    "# How much data is missing in each row of the dataset?\n",
    "\n",
    "check_rows = azdias_no_outliers.isna().sum(axis=1)\n",
    "check_rows.hist(figsize=(8,8), color=\"#32B5C9\", ec=\"white\", grid=False)\n",
    "plt.xlabel(\"missing values\")\n",
    "plt.ylabel(\"number of rows\")"
   ]
  },
  {
   "cell_type": "code",
   "execution_count": 18,
   "metadata": {},
   "outputs": [
    {
     "name": "stdout",
     "output_type": "stream",
     "text": [
      "(797906, 79)\n",
      "(93315, 79)\n"
     ]
    }
   ],
   "source": [
    "# Write code to divide the data into two subsets based on the number of missing\n",
    "# values in each row.\n",
    "\n",
    "rows_less_miss = azdias_no_outliers[azdias_no_outliers.isnull().sum(axis=1) < 25]\n",
    "rows_more_miss = azdias_no_outliers[azdias_no_outliers.isnull().sum(axis=1) >= 25]\n",
    "\n",
    "print(rows_less_miss.shape)\n",
    "print(rows_more_miss.shape)\n"
   ]
  },
  {
   "cell_type": "code",
   "execution_count": 19,
   "metadata": {},
   "outputs": [
    {
     "data": {
      "text/plain": [
       "0"
      ]
     },
     "execution_count": 19,
     "metadata": {},
     "output_type": "execute_result"
    }
   ],
   "source": [
    "(797906 + 93315) - azdias_no_outliers.shape[0]\n"
   ]
  },
  {
   "cell_type": "code",
   "execution_count": 18,
   "metadata": {},
   "outputs": [],
   "source": [
    "def compare_count(column):\n",
    "    fig = plt.figure(figsize=(20,4))\n",
    "    ax1 = fig.add_subplot(121)\n",
    "    ax1.title.set_text('rows with less missing values')\n",
    "    sns.countplot(rows_less_miss[column])\n",
    "\n",
    "    ax2 = fig.add_subplot(122)\n",
    "    ax2.title.set_text('rows with many missing values')\n",
    "    sns.countplot(rows_more_miss[column])\n",
    "\n",
    "    fig.suptitle(column)\n",
    "    plt.show()"
   ]
  },
  {
   "cell_type": "code",
   "execution_count": 19,
   "metadata": {},
   "outputs": [
    {
     "data": {
      "image/png": "[encoded data removed]",
      "text/plain": [
       "<matplotlib.figure.Figure at 0x7f717662f780>"
      ]
     },
     "metadata": {
      "needs_background": "light"
     },
     "output_type": "display_data"
    },
    {
     "data": {
      "image/png": "[encoded data removed]",
      "text/plain": [
       "<matplotlib.figure.Figure at 0x7f7174ca6390>"
      ]
     },
     "metadata": {
      "needs_background": "light"
     },
     "output_type": "display_data"
    },
    {
     "data": {
      "image/png": "[encoded data removed]",
      "text/plain": [
       "<matplotlib.figure.Figure at 0x7f7174d31630>"
      ]
     },
     "metadata": {
      "needs_background": "light"
     },
     "output_type": "display_data"
    },
    {
     "data": {
      "image/png": "[encoded data removed]",
      "text/plain": [
       "<matplotlib.figure.Figure at 0x7f7174b8b470>"
      ]
     },
     "metadata": {
      "needs_background": "light"
     },
     "output_type": "display_data"
    },
    {
     "data": {
      "image/png": "[encoded data removed]",
      "text/plain": [
       "<matplotlib.figure.Figure at 0x7f7174a3e780>"
      ]
     },
     "metadata": {
      "needs_background": "light"
     },
     "output_type": "display_data"
    }
   ],
   "source": [
    "five_columns = ['GREEN_AVANTGARDE',  'LP_STATUS_FEIN', 'FINANZ_VORSORGER', 'ZABEOTYP', 'GEBAEUDETYP_RASTER']\n",
    "for i in five_columns:\n",
    "    compare_count(i)\n"
   ]
  },
  {
   "cell_type": "markdown",
   "metadata": {},
   "source": [
    "#### Discussion 1.1.3: Assess Missing Data in Each Row\n",
    "\n",
    "(Double-click this cell and replace this text with your own text, reporting your observations regarding missing data in rows. Are the data with lots of missing values are qualitatively different from data with few or no missing values?)\n",
    "\n",
    "Yes indeed, rows that have >=25 missing values have different distribution compare to the rows that has less missing values."
   ]
  },
  {
   "cell_type": "markdown",
   "metadata": {},
   "source": [
    "### Step 1.2: Select and Re-Encode Features\n",
    "\n",
    "Checking for missing data isn't the only way in which you can prepare a dataset for analysis. Since the unsupervised learning techniques to be used will only work on data that is encoded numerically, you need to make a few encoding changes or additional assumptions to be able to make progress. In addition, while almost all of the values in the dataset are encoded using numbers, not all of them represent numeric values. Check the third column of the feature summary (`feat_info`) for a summary of types of measurement.\n",
    "- For numeric and interval data, these features can be kept without changes.\n",
    "- Most of the variables in the dataset are ordinal in nature. While ordinal values may technically be non-linear in spacing, make the simplifying assumption that the ordinal variables can be treated as being interval in nature (that is, kept without any changes).\n",
    "- Special handling may be necessary for the remaining two variable types: categorical, and 'mixed'.\n",
    "\n",
    "In the first two parts of this sub-step, you will perform an investigation of the categorical and mixed-type features and make a decision on each of them, whether you will keep, drop, or re-encode each. Then, in the last part, you will create a new data frame with only the selected and engineered columns.\n",
    "\n",
    "Data wrangling is often the trickiest part of the data analysis process, and there's a lot of it to be done here. But stick with it: once you're done with this step, you'll be ready to get to the machine learning parts of the project!"
   ]
  },
  {
   "cell_type": "code",
   "execution_count": 20,
   "metadata": {},
   "outputs": [
    {
     "data": {
      "text/html": [
       "<div>\n",
       "<style scoped>\n",
       "    .dataframe tbody tr th:only-of-type {\n",
       "        vertical-align: middle;\n",
       "    }\n",
       "\n",
       "    .dataframe tbody tr th {\n",
       "        vertical-align: top;\n",
       "    }\n",
       "\n",
       "    .dataframe thead th {\n",
       "        text-align: right;\n",
       "    }\n",
       "</style>\n",
       "<table border=\"1\" class=\"dataframe\">\n",
       "  <thead>\n",
       "    <tr style=\"text-align: right;\">\n",
       "      <th></th>\n",
       "      <th>attribute</th>\n",
       "      <th>information_level</th>\n",
       "      <th>type</th>\n",
       "      <th>missing_or_unknown</th>\n",
       "    </tr>\n",
       "  </thead>\n",
       "  <tbody>\n",
       "    <tr>\n",
       "      <th>0</th>\n",
       "      <td>AGER_TYP</td>\n",
       "      <td>person</td>\n",
       "      <td>categorical</td>\n",
       "      <td>[-1,0]</td>\n",
       "    </tr>\n",
       "    <tr>\n",
       "      <th>1</th>\n",
       "      <td>ALTERSKATEGORIE_GROB</td>\n",
       "      <td>person</td>\n",
       "      <td>ordinal</td>\n",
       "      <td>[-1,0,9]</td>\n",
       "    </tr>\n",
       "    <tr>\n",
       "      <th>2</th>\n",
       "      <td>ANREDE_KZ</td>\n",
       "      <td>person</td>\n",
       "      <td>categorical</td>\n",
       "      <td>[-1,0]</td>\n",
       "    </tr>\n",
       "    <tr>\n",
       "      <th>3</th>\n",
       "      <td>CJT_GESAMTTYP</td>\n",
       "      <td>person</td>\n",
       "      <td>categorical</td>\n",
       "      <td>[0]</td>\n",
       "    </tr>\n",
       "    <tr>\n",
       "      <th>4</th>\n",
       "      <td>FINANZ_MINIMALIST</td>\n",
       "      <td>person</td>\n",
       "      <td>ordinal</td>\n",
       "      <td>[-1]</td>\n",
       "    </tr>\n",
       "  </tbody>\n",
       "</table>\n",
       "</div>"
      ],
      "text/plain": [
       "              attribute information_level         type missing_or_unknown\n",
       "0              AGER_TYP            person  categorical             [-1,0]\n",
       "1  ALTERSKATEGORIE_GROB            person      ordinal           [-1,0,9]\n",
       "2             ANREDE_KZ            person  categorical             [-1,0]\n",
       "3         CJT_GESAMTTYP            person  categorical                [0]\n",
       "4     FINANZ_MINIMALIST            person      ordinal               [-1]"
      ]
     },
     "execution_count": 20,
     "metadata": {},
     "output_type": "execute_result"
    }
   ],
   "source": [
    "feat_info.head()"
   ]
  },
  {
   "cell_type": "code",
   "execution_count": 20,
   "metadata": {},
   "outputs": [
    {
     "data": {
      "text/plain": [
       "(79, 3)"
      ]
     },
     "execution_count": 20,
     "metadata": {},
     "output_type": "execute_result"
    }
   ],
   "source": [
    "feat_info_ind = feat_info.set_index(\"attribute\")\n",
    "\n",
    "for i in outliers_col.index:\n",
    "    feat_info_ind = feat_info_ind.drop([i])\n",
    "\n",
    "feat_info_ind.shape\n"
   ]
  },
  {
   "cell_type": "code",
   "execution_count": 21,
   "metadata": {},
   "outputs": [
    {
     "data": {
      "text/plain": [
       "ordinal        49\n",
       "categorical    18\n",
       "mixed           6\n",
       "numeric         6\n",
       "Name: type, dtype: int64"
      ]
     },
     "execution_count": 21,
     "metadata": {},
     "output_type": "execute_result"
    }
   ],
   "source": [
    "# How many features are there of each data type?\n",
    "feat_info_ind[\"type\"].value_counts()\n"
   ]
  },
  {
   "cell_type": "markdown",
   "metadata": {},
   "source": [
    "#### Step 1.2.1: Re-Encode Categorical Features\n",
    "\n",
    "For categorical data, you would ordinarily need to encode the levels as dummy variables. Depending on the number of categories, perform one of the following:\n",
    "- For binary (two-level) categoricals that take numeric values, you can keep them without needing to do anything.\n",
    "- There is one binary variable that takes on non-numeric values. For this one, you need to re-encode the values as numbers or create a dummy variable.\n",
    "- For multi-level categoricals (three or more values), you can choose to encode the values using multiple dummy variables (e.g. via [OneHotEncoder](http://scikit-learn.org/stable/modules/generated/sklearn.preprocessing.OneHotEncoder.html)), or (to keep things straightforward) just drop them from the analysis. As always, document your choices in the Discussion section."
   ]
  },
  {
   "cell_type": "code",
   "execution_count": 22,
   "metadata": {},
   "outputs": [],
   "source": [
    "# Assess categorical variables: which are binary, which are multi-level, and\n",
    "# which one needs to be re-encoded?\n",
    "\n",
    "categorical_fea = feat_info_ind[feat_info_ind['type'] == 'categorical'].index.values\n",
    "\n",
    "binary_feature = []\n",
    "multi_level_feature = []\n",
    "\n",
    "for col in categorical_fea:\n",
    "    if azdias_no_outliers[col].nunique() > 2:\n",
    "        multi_level_feature.append(col)\n",
    "    else:\n",
    "        binary_feature.append(col)\n",
    "        \n"
   ]
  },
  {
   "cell_type": "code",
   "execution_count": 23,
   "metadata": {},
   "outputs": [
    {
     "name": "stdout",
     "output_type": "stream",
     "text": [
      "Binary features are: ['ANREDE_KZ', 'GREEN_AVANTGARDE', 'SOHO_KZ', 'VERS_TYP', 'OST_WEST_KZ']\n",
      "\n",
      "Multi-level features are: ['CJT_GESAMTTYP', 'FINANZTYP', 'GFK_URLAUBERTYP', 'LP_FAMILIE_FEIN', 'LP_FAMILIE_GROB', 'LP_STATUS_FEIN', 'LP_STATUS_GROB', 'NATIONALITAET_KZ', 'SHOPPER_TYP', 'ZABEOTYP', 'GEBAEUDETYP', 'CAMEO_DEUG_2015', 'CAMEO_DEU_2015']\n"
     ]
    }
   ],
   "source": [
    "print('Binary features are: {}'.format(binary_feature))\n",
    "\n",
    "print('\\nMulti-level features are: {}'.format(multi_level_feature))\n"
   ]
  },
  {
   "cell_type": "code",
   "execution_count": 25,
   "metadata": {},
   "outputs": [],
   "source": [
    "# for x in binary_feature:\n",
    "#     print('binary values for {} = {}'.format(x, rows_less_miss[x].unique()))"
   ]
  },
  {
   "cell_type": "markdown",
   "metadata": {},
   "source": [
    "VERS_TYP column is consider to be a binary catg but it contains 3 values(2,1,nan)\n",
    "- dropped from binary_feature and added to multi_level_feature to get dropped from the dataset"
   ]
  },
  {
   "cell_type": "code",
   "execution_count": 24,
   "metadata": {},
   "outputs": [],
   "source": [
    "binary_feature.remove(\"VERS_TYP\")\n",
    "multi_level_feature.append(\"VERS_TYP\")"
   ]
  },
  {
   "cell_type": "code",
   "execution_count": 25,
   "metadata": {},
   "outputs": [
    {
     "data": {
      "text/plain": [
       "(797906, 79)"
      ]
     },
     "execution_count": 25,
     "metadata": {},
     "output_type": "execute_result"
    }
   ],
   "source": [
    "azdias_v2 = rows_less_miss\n",
    "azdias_v2.shape"
   ]
  },
  {
   "cell_type": "code",
   "execution_count": 26,
   "metadata": {},
   "outputs": [],
   "source": [
    "# Re-encode categorical variable(s) to be kept in the analysis.\n",
    "\n",
    "azdias_v2 = pd.get_dummies(rows_less_miss, columns=binary_feature)\n",
    "\n",
    "#Droping multi-level feature\n",
    "for feature in multi_level_feature:\n",
    "    azdias_v2 = azdias_v2.drop(feature, axis=1)\n",
    "\n",
    "\n",
    "    "
   ]
  },
  {
   "cell_type": "code",
   "execution_count": 29,
   "metadata": {},
   "outputs": [
    {
     "data": {
      "text/plain": [
       "(797906, 69)"
      ]
     },
     "execution_count": 29,
     "metadata": {},
     "output_type": "execute_result"
    }
   ],
   "source": [
    "azdias_v2.shape\n",
    "\n"
   ]
  },
  {
   "cell_type": "markdown",
   "metadata": {},
   "source": [
    "#### Discussion 1.2.1: Re-Encode Categorical Features\n",
    "\n",
    "(Double-click this cell and replace this text with your own text, reporting your findings and decisions regarding categorical features. Which ones did you keep, which did you drop, and what engineering steps did you perform?)\n",
    "\n",
    "Binary categorical features(count=4) have got dummied, multi categorical features (includes \"VERS_TYP\") have been droped from the dataset.\n"
   ]
  },
  {
   "cell_type": "markdown",
   "metadata": {},
   "source": [
    "#### Step 1.2.2: Engineer Mixed-Type Features\n",
    "\n",
    "There are a handful of features that are marked as \"mixed\" in the feature summary that require special treatment in order to be included in the analysis. There are two in particular that deserve attention; the handling of the rest are up to your own choices:\n",
    "- \"PRAEGENDE_JUGENDJAHRE\" combines information on three dimensions: generation by decade, movement (mainstream vs. avantgarde), and nation (east vs. west). While there aren't enough levels to disentangle east from west, you should create two new variables to capture the other two dimensions: an interval-type variable for decade, and a binary variable for movement.\n",
    "- \"CAMEO_INTL_2015\" combines information on two axes: wealth and life stage. Break up the two-digit codes by their 'tens'-place and 'ones'-place digits into two new ordinal variables (which, for the purposes of this project, is equivalent to just treating them as their raw numeric values).\n",
    "- If you decide to keep or engineer new features around the other mixed-type features, make sure you note your steps in the Discussion section.\n",
    "\n",
    "Be sure to check `Data_Dictionary.md` for the details needed to finish these tasks."
   ]
  },
  {
   "cell_type": "code",
   "execution_count": 27,
   "metadata": {},
   "outputs": [
    {
     "data": {
      "text/html": [
       "<div>\n",
       "<style scoped>\n",
       "    .dataframe tbody tr th:only-of-type {\n",
       "        vertical-align: middle;\n",
       "    }\n",
       "\n",
       "    .dataframe tbody tr th {\n",
       "        vertical-align: top;\n",
       "    }\n",
       "\n",
       "    .dataframe thead th {\n",
       "        text-align: right;\n",
       "    }\n",
       "</style>\n",
       "<table border=\"1\" class=\"dataframe\">\n",
       "  <thead>\n",
       "    <tr style=\"text-align: right;\">\n",
       "      <th></th>\n",
       "      <th>information_level</th>\n",
       "      <th>type</th>\n",
       "      <th>missing_or_unknown</th>\n",
       "    </tr>\n",
       "    <tr>\n",
       "      <th>attribute</th>\n",
       "      <th></th>\n",
       "      <th></th>\n",
       "      <th></th>\n",
       "    </tr>\n",
       "  </thead>\n",
       "  <tbody>\n",
       "    <tr>\n",
       "      <th>LP_LEBENSPHASE_FEIN</th>\n",
       "      <td>person</td>\n",
       "      <td>mixed</td>\n",
       "      <td>[0]</td>\n",
       "    </tr>\n",
       "    <tr>\n",
       "      <th>LP_LEBENSPHASE_GROB</th>\n",
       "      <td>person</td>\n",
       "      <td>mixed</td>\n",
       "      <td>[0]</td>\n",
       "    </tr>\n",
       "    <tr>\n",
       "      <th>PRAEGENDE_JUGENDJAHRE</th>\n",
       "      <td>person</td>\n",
       "      <td>mixed</td>\n",
       "      <td>[-1,0]</td>\n",
       "    </tr>\n",
       "    <tr>\n",
       "      <th>WOHNLAGE</th>\n",
       "      <td>building</td>\n",
       "      <td>mixed</td>\n",
       "      <td>[-1]</td>\n",
       "    </tr>\n",
       "    <tr>\n",
       "      <th>CAMEO_INTL_2015</th>\n",
       "      <td>microcell_rr4</td>\n",
       "      <td>mixed</td>\n",
       "      <td>[-1,XX]</td>\n",
       "    </tr>\n",
       "    <tr>\n",
       "      <th>PLZ8_BAUMAX</th>\n",
       "      <td>macrocell_plz8</td>\n",
       "      <td>mixed</td>\n",
       "      <td>[-1,0]</td>\n",
       "    </tr>\n",
       "  </tbody>\n",
       "</table>\n",
       "</div>"
      ],
      "text/plain": [
       "                      information_level   type missing_or_unknown\n",
       "attribute                                                        \n",
       "LP_LEBENSPHASE_FEIN              person  mixed                [0]\n",
       "LP_LEBENSPHASE_GROB              person  mixed                [0]\n",
       "PRAEGENDE_JUGENDJAHRE            person  mixed             [-1,0]\n",
       "WOHNLAGE                       building  mixed               [-1]\n",
       "CAMEO_INTL_2015           microcell_rr4  mixed            [-1,XX]\n",
       "PLZ8_BAUMAX              macrocell_plz8  mixed             [-1,0]"
      ]
     },
     "execution_count": 27,
     "metadata": {},
     "output_type": "execute_result"
    }
   ],
   "source": [
    "feat_info_ind[feat_info_ind[\"type\"] == \"mixed\"]"
   ]
  },
  {
   "cell_type": "markdown",
   "metadata": {},
   "source": [
    "### PRAEGENDE_JUGENDJAHRE\n",
    "\n",
    "Dominating movement of person's youth (avantgarde vs. mainstream; east vs. west)\n",
    "\n",
    "-  1: 40s - war years (Mainstream, E+W)\n",
    "-  2: 40s - reconstruction years (Avantgarde, E+W)\n",
    "-  3: 50s - economic miracle (Mainstream, E+W)\n",
    "-  4: 50s - milk bar / Individualisation (Avantgarde, E+W)\n",
    "-  5: 60s - economic miracle (Mainstream, E+W)\n",
    "-  6: 60s - generation 68 / student protestors (Avantgarde, W)\n",
    "-  7: 60s - opponents to the building of the Wall (Avantgarde, E)\n",
    "-  8: 70s - family orientation (Mainstream, E+W)\n",
    "-  9: 70s - peace movement (Avantgarde, E+W)\n",
    "- 10: 80s - Generation Golf (Mainstream, W)\n",
    "- 11: 80s - ecological awareness (Avantgarde, W)\n",
    "- 12: 80s - FDJ / communist party youth organisation (Mainstream, E)\n",
    "- 13: 80s - Swords into ploughshares (Avantgarde, E)\n",
    "- 14: 90s - digital media kids (Mainstream, E+W)\n",
    "- 15: 90s - ecological awareness (Avantgarde, E+W)\n",
    "\n"
   ]
  },
  {
   "cell_type": "code",
   "execution_count": 28,
   "metadata": {},
   "outputs": [],
   "source": [
    "# Investigate \"PRAEGENDE_JUGENDJAHRE\" and engineer two new variables.\n",
    "\n",
    "azdias_v2.loc[azdias_v2['PRAEGENDE_JUGENDJAHRE'].isin([1, 2]),'PRAEGENDE_JUGENDJAHRE DECADE'] = 1\n",
    "azdias_v2.loc[azdias_v2['PRAEGENDE_JUGENDJAHRE'].isin([3, 4]),'PRAEGENDE_JUGENDJAHRE DECADE'] = 2\n",
    "azdias_v2.loc[azdias_v2['PRAEGENDE_JUGENDJAHRE'].isin([5, 6, 7]),'PRAEGENDE_JUGENDJAHRE DECADE'] = 3\n",
    "azdias_v2.loc[azdias_v2['PRAEGENDE_JUGENDJAHRE'].isin([8, 9]),'PRAEGENDE_JUGENDJAHRE DECADE'] = 4\n",
    "azdias_v2.loc[azdias_v2['PRAEGENDE_JUGENDJAHRE'].isin([10, 11, 12, 13]),'PRAEGENDE_JUGENDJAHRE DECADE'] = 5\n",
    "azdias_v2.loc[azdias_v2['PRAEGENDE_JUGENDJAHRE'].isin([14,15]),'PRAEGENDE_JUGENDJAHRE DECADE'] = 6\n",
    "\n",
    "\n"
   ]
  },
  {
   "cell_type": "code",
   "execution_count": 29,
   "metadata": {},
   "outputs": [],
   "source": [
    "mainstream = [1, 3, 5, 8, 10, 12, 14]\n",
    "avantgrade = [2, 4, 6, 7, 9, 11, 13, 15]\n",
    "\n",
    "azdias_v2.loc[azdias_v2['PRAEGENDE_JUGENDJAHRE'].isin(mainstream),'PRAEGENDE_JUGENDJAHRE MOVEMENT'] = 1\n",
    "azdias_v2.loc[azdias_v2['PRAEGENDE_JUGENDJAHRE'].isin(avantgrade),'PRAEGENDE_JUGENDJAHRE MOVEMENT'] = 2"
   ]
  },
  {
   "cell_type": "markdown",
   "metadata": {},
   "source": [
    "### 4.3. CAMEO_INTL_2015\n",
    "\n",
    "German CAMEO: Wealth / Life Stage Typology, mapped to international code\n",
    "\n",
    "- -1: unknown\n",
    "- 11: Wealthy Households - Pre-Family Couples & Singles\n",
    "- 12: Wealthy Households - Young Couples With Children\n",
    "- 13: Wealthy Households - Families With School Age Children\n",
    "- 14: Wealthy Households - Older Families &  Mature Couples\n",
    "- 15: Wealthy Households - Elders In Retirement\n",
    "- 21: Prosperous Households - Pre-Family Couples & Singles\n",
    "- 22: Prosperous Households - Young Couples With Children\n",
    "- 23: Prosperous Households - Families With School Age Children\n",
    "- 24: Prosperous Households - Older Families & Mature Couples\n",
    "- 25: Prosperous Households - Elders In Retirement\n",
    "- 31: Comfortable Households - Pre-Family Couples & Singles\n",
    "- 32: Comfortable Households - Young Couples With Children\n",
    "- 33: Comfortable Households - Families With School Age Children\n",
    "- 34: Comfortable Households - Older Families & Mature Couples\n",
    "- 35: Comfortable Households - Elders In Retirement\n",
    "- 41: Less Affluent Households - Pre-Family Couples & Singles\n",
    "- 42: Less Affluent Households - Young Couples With Children\n",
    "- 43: Less Affluent Households - Families With School Age Children\n",
    "- 44: Less Affluent Households - Older Families & Mature Couples\n",
    "- 45: Less Affluent Households - Elders In Retirement\n",
    "- 51: Poorer Households - Pre-Family Couples & Singles\n",
    "- 52: Poorer Households - Young Couples With Children\n",
    "- 53: Poorer Households - Families With School Age Children\n",
    "- 54: Poorer Households - Older Families & Mature Couples\n",
    "- 55: Poorer Households - Elders In Retirement\n",
    "- XX: unknown"
   ]
  },
  {
   "cell_type": "code",
   "execution_count": 30,
   "metadata": {},
   "outputs": [],
   "source": [
    "# Investigate \"CAMEO_INTL_2015\" and engineer two new variables.\n",
    "\n",
    "wealth_dict = {'11':1, '12':1, '13':1, '14':1, '15':1, \n",
    "               \n",
    "               '21':2, '22':2, '23':2, '24':2, '25':2,\n",
    "               \n",
    "               '31':3, '32':3, '33':3, '34':3, '35':3, \n",
    "               \n",
    "               '41':4, '42':4, '43':4, '44':4, '45':4,\n",
    "               \n",
    "               '51':5, '52':5, '53':5, '54':5, '55':5}\n",
    "\n",
    "\n",
    "\n",
    "life_stage_dict = {'11':1, '21':1,'31':1,'51':1,'41':1,\n",
    "                   \n",
    "                   '12':2,'32':2,'52':2,'42':2,'22':2,\n",
    "                   \n",
    "                   '13':3,'33':3,'53':3,'43':3,'23':3, \n",
    "                   \n",
    "                   '14':4,'34':4,'54':4,'24':4,'44':4,\n",
    "                   \n",
    "                   '25':5,'15':5,'35':5,'45':5,'55':5}\n",
    "\n",
    "\n"
   ]
  },
  {
   "cell_type": "code",
   "execution_count": 31,
   "metadata": {},
   "outputs": [],
   "source": [
    "\n",
    "azdias_v2['CAMEO_INTL_2015_WEALTH'] = azdias_v2['CAMEO_INTL_2015']\n",
    "azdias_v2['CAMEO_INTL_2015_LIFE_STAGE'] = azdias_v2['CAMEO_INTL_2015']\n",
    "\n",
    "azdias_v2['CAMEO_INTL_2015_WEALTH'].replace(wealth_dict, inplace=True)\n",
    "azdias_v2['CAMEO_INTL_2015_LIFE_STAGE'].replace(life_stage_dict, inplace=True)"
   ]
  },
  {
   "cell_type": "markdown",
   "metadata": {},
   "source": [
    "### WOHNLAGE\n",
    "Neighborhood quality (or rural flag)\n",
    "- -1: unknown\n",
    "-  0: no score calculated\n",
    "-  1: very good neighborhood\n",
    "-  2: good neighborhood\n",
    "-  3: average neighborhood\n",
    "-  4: poor neighborhood\n",
    "-  5: very poor neighborhood\n",
    "-  7: rural neighborhood\n",
    "-  8: new building in rural neighborhood"
   ]
  },
  {
   "cell_type": "code",
   "execution_count": 32,
   "metadata": {},
   "outputs": [],
   "source": [
    "# Investigate \"WOHNLAGE\" \n",
    "\n",
    "neighboor = {0:0, 7:0, 8:0,\n",
    "             \n",
    "            1:1, 2:1, 3:1,\n",
    "            \n",
    "            4:2, 5:2,}\n",
    "\n",
    "\n",
    "azdias_v2['WOHNLAGE_NEIGHBOOR'] = azdias_v2['WOHNLAGE']\n"
   ]
  },
  {
   "cell_type": "code",
   "execution_count": 33,
   "metadata": {},
   "outputs": [],
   "source": [
    "azdias_v2['WOHNLAGE_NEIGHBOOR'].replace(neighboor, inplace=True)\n"
   ]
  },
  {
   "cell_type": "code",
   "execution_count": 34,
   "metadata": {},
   "outputs": [],
   "source": [
    "# Drop the rest of mixed type columns\n",
    "\n",
    "azdias_v2.drop('CAMEO_INTL_2015', axis=1, inplace=True)\n",
    "azdias_v2.drop('PRAEGENDE_JUGENDJAHRE', axis=1, inplace=True)\n",
    "azdias_v2.drop('WOHNLAGE', axis=1, inplace=True)\n",
    "azdias_v2.drop('PLZ8_BAUMAX', axis=1, inplace=True)\n",
    "azdias_v2.drop('LP_LEBENSPHASE_GROB', axis=1, inplace=True)\n",
    "azdias_v2.drop('LP_LEBENSPHASE_FEIN', axis=1, inplace=True)\n",
    "\n"
   ]
  },
  {
   "cell_type": "markdown",
   "metadata": {},
   "source": [
    "#### Discussion 1.2.2: Engineer Mixed-Type Features\n",
    "\n",
    "(Double-click this cell and replace this text with your own text, reporting your findings and decisions regarding mixed-value features. Which ones did you keep, which did you drop, and what engineering steps did you perform?)\n",
    "\n",
    "Kept three columns: [CAMEO_INTL_2015 , PRAEGENDE_JUGENDJAHRE , WOHNLAGE ] and droped the rest mixed type columns\n",
    "\n",
    "\n",
    "For \"PRAEGENDE_JUGENDJAHRE\" i replaced it with two new variables:\n",
    "- \"decade\" representing decade\n",
    "- \"movement\" represinting movement\n",
    "\n",
    "For \"CAMEO_INTL_2015\" i replaced it with two new variables:\n",
    "- \"wealth\" representing wealth\n",
    "- \"life_stage\" representing life stage\n",
    "\n",
    "\n",
    "For \"WOHNLAGE\" i replaced it with one new variable:\n",
    "- \"0\" for no neighboor\n",
    "- \"1\" for good neighbbor\n",
    "- \"2\" for bad neighboor\n",
    "\n",
    "\n"
   ]
  },
  {
   "cell_type": "markdown",
   "metadata": {},
   "source": [
    "#### Step 1.2.3: Complete Feature Selection\n",
    "\n",
    "In order to finish this step up, you need to make sure that your data frame now only has the columns that you want to keep. To summarize, the dataframe should consist of the following:\n",
    "- All numeric, interval, and ordinal type columns from the original dataset.\n",
    "- Binary categorical features (all numerically-encoded).\n",
    "- Engineered features from other multi-level categorical features and mixed features.\n",
    "\n",
    "Make sure that for any new columns that you have engineered, that you've excluded the original columns from the final dataset. Otherwise, their values will interfere with the analysis later on the project. For example, you should not keep \"PRAEGENDE_JUGENDJAHRE\", since its values won't be useful for the algorithm: only the values derived from it in the engineered features you created should be retained. As a reminder, your data should only be from **the subset with few or no missing values**."
   ]
  },
  {
   "cell_type": "code",
   "execution_count": 35,
   "metadata": {},
   "outputs": [],
   "source": [
    "# If there are other re-engineering tasks you need to perform, make sure you\n",
    "# take care of them here. (Dealing with missing data will come in step 2.1.)\n"
   ]
  },
  {
   "cell_type": "code",
   "execution_count": 39,
   "metadata": {},
   "outputs": [],
   "source": [
    "# Do whatever you need to in order to ensure that the dataframe only contains\n",
    "# the columns that should be passed to the algorithm functions.\n",
    "\n"
   ]
  },
  {
   "cell_type": "markdown",
   "metadata": {},
   "source": [
    "### Step 1.3: Create a Cleaning Function\n",
    "\n",
    "Even though you've finished cleaning up the general population demographics data, it's important to look ahead to the future and realize that you'll need to perform the same cleaning steps on the customer demographics data. In this substep, complete the function below to execute the main feature selection, encoding, and re-engineering steps you performed above. Then, when it comes to looking at the customer data in Step 3, you can just run this function on that DataFrame to get the trimmed dataset in a single step."
   ]
  },
  {
   "cell_type": "code",
   "execution_count": 36,
   "metadata": {},
   "outputs": [],
   "source": [
    "az = azdias_v2"
   ]
  },
  {
   "cell_type": "code",
   "execution_count": 42,
   "metadata": {},
   "outputs": [],
   "source": [
    "# def clean_data_xx(df):\n",
    "#     \"\"\"\n",
    "#     Perform feature trimming, re-encoding, and engineering for demographics\n",
    "#     data\n",
    "    \n",
    "#     INPUT: Demographics DataFrame\n",
    "#     OUTPUT: Trimmed and cleaned demographics DataFrame\n",
    "#     \"\"\"\n",
    "    \n",
    "#     # Put in code here to execute all main cleaning steps:\n",
    "#     feat_info = pd.read_csv('AZDIAS_Feature_Summary.csv', delimiter=';')\n",
    "    \n",
    "#     # convert missing value codes into NaNs, ...\n",
    "#     for indx in range(len(feat_info)):\n",
    "#         missing_or_unknown = feat_info.iloc[indx]['missing_or_unknown']\n",
    "#         missing_or_unknown = missing_or_unknown.strip('[')\n",
    "#         missing_or_unknown = missing_or_unknown.strip(']')\n",
    "#         missing_or_unknown = missing_or_unknown.split(sep=',')\n",
    "#         missing_or_unknown = [int(value) if (value!='X' and value!='XX' and value!='') else value for value in missing_or_unknown]\n",
    "#         if missing_or_unknown != ['']:\n",
    "#             df = df.replace({feat_info.iloc[indx]['attribute']: missing_or_unknown}, np.nan)\n",
    "    \n",
    "#     # remove selected columns and rows, ...\n",
    "#     outlier_columns = ['AGER_TYP', 'GEBURTSJAHR', 'TITEL_KZ', 'ALTER_HH', 'KK_KUNDENTYP', 'KBA05_BAUMAX']\n",
    "#     df.drop(outlier_columns, axis=1, inplace=True)\n",
    "    \n",
    "#     rows_less_miss = df[df.isnull().sum(axis=1) < 25]\n",
    "\n",
    "#     df_clean = df\n",
    "#     # select, re-encode, and engineer column values.\n",
    "#     categorical_fea = feat_info[feat_info['type'] == 'categorical'].index.values\n",
    "\n",
    "#     binary_feature = []\n",
    "#     multi_level_feature = []\n",
    "\n",
    "#     for col in categorical_fea:\n",
    "#         if df_clean[col].nunique() > 2:\n",
    "#             multi_level_feature.append(col)\n",
    "#         else:\n",
    "#             binary_feature.append(col)\n",
    "            \n",
    "#     binary_feature.remove(\"VERS_TYP\")\n",
    "#     multi_level_feature.append(\"VERS_TYP\")\n",
    "    \n",
    "#     df_clean = pd.get_dummies(rows_less_miss, columns=binary_feature)\n",
    "    \n",
    "#     for feature in multi_level_feature:\n",
    "#         df_clean = df_clean.drop(feature, axis=1)\n",
    "    \n",
    "    \n",
    "    \n",
    "# #      select, re-encode, and engineer column values.\n",
    "#     df_clean.loc[df_clean['PRAEGENDE_JUGENDJAHRE'].isin([1, 2]),'PRAEGENDE_JUGENDJAHRE DECADE'] = 1\n",
    "#     df_clean.loc[df_clean['PRAEGENDE_JUGENDJAHRE'].isin([3, 4]),'PRAEGENDE_JUGENDJAHRE DECADE'] = 2\n",
    "#     df_clean.loc[df_clean['PRAEGENDE_JUGENDJAHRE'].isin([5, 6, 7]),'PRAEGENDE_JUGENDJAHRE DECADE'] = 3\n",
    "#     df_clean.loc[df_clean['PRAEGENDE_JUGENDJAHRE'].isin([8, 9]),'PRAEGENDE_JUGENDJAHRE DECADE'] = 4\n",
    "#     df_clean.loc[df_clean['PRAEGENDE_JUGENDJAHRE'].isin([10, 11, 12, 13]),'PRAEGENDE_JUGENDJAHRE DECADE'] = 5\n",
    "#     df_clean.loc[df_clean['PRAEGENDE_JUGENDJAHRE'].isin([14,15]),'PRAEGENDE_JUGENDJAHRE DECADE'] = 6\n",
    "\n",
    "#     mainstream = [1, 3, 5, 8, 10, 12, 14]\n",
    "#     avantgrade = [2, 4, 6, 7, 9, 11, 13, 15]\n",
    "\n",
    "#     df_clean.loc[df_clean['PRAEGENDE_JUGENDJAHRE'].isin(mainstream),'PRAEGENDE_JUGENDJAHRE MOVEMENT'] = 1\n",
    "#     df_clean.loc[df_clean['PRAEGENDE_JUGENDJAHRE'].isin(avantgrade),'PRAEGENDE_JUGENDJAHRE MOVEMENT'] = 2\n",
    "    \n",
    "    \n",
    "#     \"-------------------------------\"\n",
    "    \n",
    "#     wealth_dict = {'11':1, '12':1, '13':1, '14':1, '15':1, \n",
    "               \n",
    "#                '21':2, '22':2, '23':2, '24':2, '25':2,\n",
    "               \n",
    "#                '31':3, '32':3, '33':3, '34':3, '35':3, \n",
    "               \n",
    "#                '41':4, '42':4, '43':4, '44':4, '45':4,\n",
    "               \n",
    "#                '51':5, '52':5, '53':5, '54':5, '55':5}\n",
    "\n",
    "\n",
    "\n",
    "#     life_stage_dict = {'11':1, '21':1,'31':1,'51':1,'41':1,\n",
    "                   \n",
    "#                    '12':2,'32':2,'52':2,'42':2,'22':2,\n",
    "                   \n",
    "#                    '13':3,'33':3,'53':3,'43':3,'23':3, \n",
    "                   \n",
    "#                    '14':4,'34':4,'54':4,'24':4,'44':4,\n",
    "                   \n",
    "#                    '25':5,'15':5,'35':5,'45':5,'55':5}\n",
    "\n",
    "    \n",
    "#     df_clean['CAMEO_INTL_2015_WEALTH'] = df_clean['CAMEO_INTL_2015']\n",
    "#     df_clean['CAMEO_INTL_2015_LIFE_STAGE'] = df_clean['CAMEO_INTL_2015']\n",
    "\n",
    "#     df_clean['CAMEO_INTL_2015_WEALTH'].replace(wealth_dict, inplace=True)\n",
    "#     df_clean['CAMEO_INTL_2015_LIFE_STAGE'].replace(life_stage_dict, inplace=True)\n",
    "    \n",
    "#     \"----------------------------------\"\n",
    "    \n",
    "#     neighboor = {0:0, 7:0, 8:0,\n",
    "             \n",
    "#                 1:1, 2:1, 3:1,\n",
    "            \n",
    "#                 4:2, 5:2,}\n",
    "\n",
    "\n",
    "#     df_clean['WOHNLAGE_NEIGHBOOR'] = df_clean['WOHNLAGE']\n",
    "\n",
    "#     df_clean['WOHNLAGE_NEIGHBOOR'].replace(neighboor, inplace=True)\n",
    "\n",
    "    \n",
    "#     df_clean.drop('CAMEO_INTL_2015', axis=1, inplace=True)\n",
    "#     df_clean.drop('PRAEGENDE_JUGENDJAHRE', axis=1, inplace=True)\n",
    "#     df_clean.drop('WOHNLAGE', axis=1, inplace=True)\n",
    "#     df_clean.drop('PLZ8_BAUMAX', axis=1, inplace=True)\n",
    "#     df_clean.drop('LP_LEBENSPHASE_GROB', axis=1, inplace=True)\n",
    "#     df_clean.drop('LP_LEBENSPHASE_FEIN', axis=1, inplace=True)\n",
    "    \n",
    "#     # Return the cleaned dataframe.\n",
    "#     return df_clean\n",
    "    \n",
    "    "
   ]
  },
  {
   "cell_type": "markdown",
   "metadata": {},
   "source": [
    "## Step 2: Feature Transformation\n",
    "\n",
    "### Step 2.1: Apply Feature Scaling\n",
    "\n",
    "Before we apply dimensionality reduction techniques to the data, we need to perform feature scaling so that the principal component vectors are not influenced by the natural differences in scale for features. Starting from this part of the project, you'll want to keep an eye on the [API reference page for sklearn](http://scikit-learn.org/stable/modules/classes.html) to help you navigate to all of the classes and functions that you'll need. In this substep, you'll need to check the following:\n",
    "\n",
    "- sklearn requires that data not have missing values in order for its estimators to work properly. So, before applying the scaler to your data, make sure that you've cleaned the DataFrame of the remaining missing values. This can be as simple as just removing all data points with missing data, or applying an [Imputer](https://scikit-learn.org/0.16/modules/generated/sklearn.preprocessing.Imputer.html) to replace all missing values. You might also try a more complicated procedure where you temporarily remove missing values in order to compute the scaling parameters before re-introducing those missing values and applying imputation. Think about how much missing data you have and what possible effects each approach might have on your analysis, and justify your decision in the discussion section below.\n",
    "- For the actual scaling function, a [StandardScaler](http://scikit-learn.org/stable/modules/generated/sklearn.preprocessing.StandardScaler.html) instance is suggested, scaling each feature to mean 0 and standard deviation 1.\n",
    "- For these classes, you can make use of the `.fit_transform()` method to both fit a procedure to the data as well as apply the transformation to the data at the same time. Don't forget to keep the fit sklearn objects handy, since you'll be applying them to the customer demographics data towards the end of the project."
   ]
  },
  {
   "cell_type": "code",
   "execution_count": 38,
   "metadata": {},
   "outputs": [],
   "source": [
    "# If you've not yet cleaned the dataset of all NaN values, then investigate and\n",
    "# do that now.\n",
    "\n",
    "\n",
    "from sklearn.preprocessing import StandardScaler, Imputer\n",
    "\n",
    "imputer = Imputer(strategy='median')\n",
    "imputer_data = imputer.fit_transform(az)\n"
   ]
  },
  {
   "cell_type": "code",
   "execution_count": 39,
   "metadata": {},
   "outputs": [],
   "source": [
    "# Apply feature scaling to the general population demographics data.\n",
    "\n",
    "from sklearn.preprocessing import StandardScaler\n",
    "\n",
    "scaler = StandardScaler()\n",
    "\n",
    "azdias_scaled = pd.DataFrame(scaler.fit_transform(imputer_data), columns=azdias_v2.columns)\n"
   ]
  },
  {
   "cell_type": "code",
   "execution_count": 40,
   "metadata": {},
   "outputs": [
    {
     "data": {
      "text/html": [
       "<div>\n",
       "<style scoped>\n",
       "    .dataframe tbody tr th:only-of-type {\n",
       "        vertical-align: middle;\n",
       "    }\n",
       "\n",
       "    .dataframe tbody tr th {\n",
       "        vertical-align: top;\n",
       "    }\n",
       "\n",
       "    .dataframe thead th {\n",
       "        text-align: right;\n",
       "    }\n",
       "</style>\n",
       "<table border=\"1\" class=\"dataframe\">\n",
       "  <thead>\n",
       "    <tr style=\"text-align: right;\">\n",
       "      <th></th>\n",
       "      <th>ALTERSKATEGORIE_GROB</th>\n",
       "      <th>FINANZ_MINIMALIST</th>\n",
       "      <th>FINANZ_SPARER</th>\n",
       "      <th>FINANZ_VORSORGER</th>\n",
       "      <th>FINANZ_ANLEGER</th>\n",
       "      <th>FINANZ_UNAUFFAELLIGER</th>\n",
       "      <th>FINANZ_HAUSBAUER</th>\n",
       "      <th>HEALTH_TYP</th>\n",
       "      <th>RETOURTYP_BK_S</th>\n",
       "      <th>SEMIO_SOZ</th>\n",
       "      <th>...</th>\n",
       "      <th>GREEN_AVANTGARDE_1</th>\n",
       "      <th>SOHO_KZ_0.0</th>\n",
       "      <th>SOHO_KZ_1.0</th>\n",
       "      <th>OST_WEST_KZ_O</th>\n",
       "      <th>OST_WEST_KZ_W</th>\n",
       "      <th>PRAEGENDE_JUGENDJAHRE DECADE</th>\n",
       "      <th>PRAEGENDE_JUGENDJAHRE MOVEMENT</th>\n",
       "      <th>CAMEO_INTL_2015_WEALTH</th>\n",
       "      <th>CAMEO_INTL_2015_LIFE_STAGE</th>\n",
       "      <th>WOHNLAGE_NEIGHBOOR</th>\n",
       "    </tr>\n",
       "  </thead>\n",
       "  <tbody>\n",
       "    <tr>\n",
       "      <th>0</th>\n",
       "      <td>-1.766583</td>\n",
       "      <td>-1.494563</td>\n",
       "      <td>1.537958</td>\n",
       "      <td>-1.040677</td>\n",
       "      <td>1.466028</td>\n",
       "      <td>0.958855</td>\n",
       "      <td>1.339191</td>\n",
       "      <td>1.096516</td>\n",
       "      <td>-1.686207</td>\n",
       "      <td>0.443085</td>\n",
       "      <td>...</td>\n",
       "      <td>-0.530442</td>\n",
       "      <td>-10.853881</td>\n",
       "      <td>10.853881</td>\n",
       "      <td>-0.517445</td>\n",
       "      <td>0.517445</td>\n",
       "      <td>1.172889</td>\n",
       "      <td>-0.530442</td>\n",
       "      <td>1.186174</td>\n",
       "      <td>-1.266961</td>\n",
       "      <td>1.376721</td>\n",
       "    </tr>\n",
       "    <tr>\n",
       "      <th>1</th>\n",
       "      <td>0.200534</td>\n",
       "      <td>-1.494563</td>\n",
       "      <td>0.864598</td>\n",
       "      <td>-1.766947</td>\n",
       "      <td>-0.570971</td>\n",
       "      <td>0.244297</td>\n",
       "      <td>1.339191</td>\n",
       "      <td>1.096516</td>\n",
       "      <td>-0.307643</td>\n",
       "      <td>-0.072128</td>\n",
       "      <td>...</td>\n",
       "      <td>1.885219</td>\n",
       "      <td>0.092133</td>\n",
       "      <td>-0.092133</td>\n",
       "      <td>-0.517445</td>\n",
       "      <td>0.517445</td>\n",
       "      <td>1.172889</td>\n",
       "      <td>1.885219</td>\n",
       "      <td>-0.868201</td>\n",
       "      <td>0.761246</td>\n",
       "      <td>-0.029348</td>\n",
       "    </tr>\n",
       "    <tr>\n",
       "      <th>2</th>\n",
       "      <td>1.184092</td>\n",
       "      <td>0.683201</td>\n",
       "      <td>-0.482123</td>\n",
       "      <td>1.138132</td>\n",
       "      <td>-0.570971</td>\n",
       "      <td>-1.184817</td>\n",
       "      <td>-0.791446</td>\n",
       "      <td>-0.257063</td>\n",
       "      <td>-0.996925</td>\n",
       "      <td>0.443085</td>\n",
       "      <td>...</td>\n",
       "      <td>-0.530442</td>\n",
       "      <td>0.092133</td>\n",
       "      <td>-0.092133</td>\n",
       "      <td>-0.517445</td>\n",
       "      <td>0.517445</td>\n",
       "      <td>-0.223438</td>\n",
       "      <td>-0.530442</td>\n",
       "      <td>-1.552992</td>\n",
       "      <td>-0.590892</td>\n",
       "      <td>-1.435416</td>\n",
       "    </tr>\n",
       "    <tr>\n",
       "      <th>3</th>\n",
       "      <td>0.200534</td>\n",
       "      <td>0.683201</td>\n",
       "      <td>0.191237</td>\n",
       "      <td>0.411863</td>\n",
       "      <td>-1.249970</td>\n",
       "      <td>0.244297</td>\n",
       "      <td>-0.791446</td>\n",
       "      <td>1.096516</td>\n",
       "      <td>1.070920</td>\n",
       "      <td>0.958297</td>\n",
       "      <td>...</td>\n",
       "      <td>-0.530442</td>\n",
       "      <td>0.092133</td>\n",
       "      <td>-0.092133</td>\n",
       "      <td>-0.517445</td>\n",
       "      <td>0.517445</td>\n",
       "      <td>-0.223438</td>\n",
       "      <td>-0.530442</td>\n",
       "      <td>0.501382</td>\n",
       "      <td>0.085177</td>\n",
       "      <td>-0.029348</td>\n",
       "    </tr>\n",
       "    <tr>\n",
       "      <th>4</th>\n",
       "      <td>-1.766583</td>\n",
       "      <td>-0.042721</td>\n",
       "      <td>-1.155483</td>\n",
       "      <td>1.138132</td>\n",
       "      <td>-0.570971</td>\n",
       "      <td>-0.470260</td>\n",
       "      <td>1.339191</td>\n",
       "      <td>1.096516</td>\n",
       "      <td>-0.307643</td>\n",
       "      <td>-1.102553</td>\n",
       "      <td>...</td>\n",
       "      <td>-0.530442</td>\n",
       "      <td>0.092133</td>\n",
       "      <td>-0.092133</td>\n",
       "      <td>-0.517445</td>\n",
       "      <td>0.517445</td>\n",
       "      <td>-1.619764</td>\n",
       "      <td>-0.530442</td>\n",
       "      <td>1.186174</td>\n",
       "      <td>0.761246</td>\n",
       "      <td>-1.435416</td>\n",
       "    </tr>\n",
       "  </tbody>\n",
       "</table>\n",
       "<p>5 rows × 68 columns</p>\n",
       "</div>"
      ],
      "text/plain": [
       "   ALTERSKATEGORIE_GROB  FINANZ_MINIMALIST  FINANZ_SPARER  FINANZ_VORSORGER  \\\n",
       "0             -1.766583          -1.494563       1.537958         -1.040677   \n",
       "1              0.200534          -1.494563       0.864598         -1.766947   \n",
       "2              1.184092           0.683201      -0.482123          1.138132   \n",
       "3              0.200534           0.683201       0.191237          0.411863   \n",
       "4             -1.766583          -0.042721      -1.155483          1.138132   \n",
       "\n",
       "   FINANZ_ANLEGER  FINANZ_UNAUFFAELLIGER  FINANZ_HAUSBAUER  HEALTH_TYP  \\\n",
       "0        1.466028               0.958855          1.339191    1.096516   \n",
       "1       -0.570971               0.244297          1.339191    1.096516   \n",
       "2       -0.570971              -1.184817         -0.791446   -0.257063   \n",
       "3       -1.249970               0.244297         -0.791446    1.096516   \n",
       "4       -0.570971              -0.470260          1.339191    1.096516   \n",
       "\n",
       "   RETOURTYP_BK_S  SEMIO_SOZ         ...          GREEN_AVANTGARDE_1  \\\n",
       "0       -1.686207   0.443085         ...                   -0.530442   \n",
       "1       -0.307643  -0.072128         ...                    1.885219   \n",
       "2       -0.996925   0.443085         ...                   -0.530442   \n",
       "3        1.070920   0.958297         ...                   -0.530442   \n",
       "4       -0.307643  -1.102553         ...                   -0.530442   \n",
       "\n",
       "   SOHO_KZ_0.0  SOHO_KZ_1.0  OST_WEST_KZ_O  OST_WEST_KZ_W  \\\n",
       "0   -10.853881    10.853881      -0.517445       0.517445   \n",
       "1     0.092133    -0.092133      -0.517445       0.517445   \n",
       "2     0.092133    -0.092133      -0.517445       0.517445   \n",
       "3     0.092133    -0.092133      -0.517445       0.517445   \n",
       "4     0.092133    -0.092133      -0.517445       0.517445   \n",
       "\n",
       "   PRAEGENDE_JUGENDJAHRE DECADE  PRAEGENDE_JUGENDJAHRE MOVEMENT  \\\n",
       "0                      1.172889                       -0.530442   \n",
       "1                      1.172889                        1.885219   \n",
       "2                     -0.223438                       -0.530442   \n",
       "3                     -0.223438                       -0.530442   \n",
       "4                     -1.619764                       -0.530442   \n",
       "\n",
       "   CAMEO_INTL_2015_WEALTH  CAMEO_INTL_2015_LIFE_STAGE  WOHNLAGE_NEIGHBOOR  \n",
       "0                1.186174                   -1.266961            1.376721  \n",
       "1               -0.868201                    0.761246           -0.029348  \n",
       "2               -1.552992                   -0.590892           -1.435416  \n",
       "3                0.501382                    0.085177           -0.029348  \n",
       "4                1.186174                    0.761246           -1.435416  \n",
       "\n",
       "[5 rows x 68 columns]"
      ]
     },
     "execution_count": 40,
     "metadata": {},
     "output_type": "execute_result"
    }
   ],
   "source": [
    "\n",
    "azdias_scaled.head()"
   ]
  },
  {
   "cell_type": "markdown",
   "metadata": {},
   "source": [
    "### Discussion 2.1: Apply Feature Scaling\n",
    "\n",
    "(Double-click this cell and replace this text with your own text, reporting your decisions regarding feature scaling.)\n",
    "\n",
    "\n",
    "Filled the Nan values with \"Median\" using Imputer, perefer to use median than mean to avoid float numbers, And then scalled all the values using StandarScaler "
   ]
  },
  {
   "cell_type": "markdown",
   "metadata": {},
   "source": [
    "### Step 2.2: Perform Dimensionality Reduction\n",
    "\n",
    "On your scaled data, you are now ready to apply dimensionality reduction techniques.\n",
    "\n",
    "- Use sklearn's [PCA](http://scikit-learn.org/stable/modules/generated/sklearn.decomposition.PCA.html) class to apply principal component analysis on the data, thus finding the vectors of maximal variance in the data. To start, you should not set any parameters (so all components are computed) or set a number of components that is at least half the number of features (so there's enough features to see the general trend in variability).\n",
    "- Check out the ratio of variance explained by each principal component as well as the cumulative variance explained. Try plotting the cumulative or sequential values using matplotlib's [`plot()`](https://matplotlib.org/api/_as_gen/matplotlib.pyplot.plot.html) function. Based on what you find, select a value for the number of transformed features you'll retain for the clustering part of the project.\n",
    "- Once you've made a choice for the number of components to keep, make sure you re-fit a PCA instance to perform the decided-on transformation."
   ]
  },
  {
   "cell_type": "code",
   "execution_count": 41,
   "metadata": {},
   "outputs": [],
   "source": [
    "# Apply PCA to the data.\n",
    "\n",
    "from sklearn.decomposition import PCA\n",
    "\n",
    "pca = PCA()\n",
    "\n",
    "pca_features = pca.fit_transform(azdias_scaled)\n",
    "\n",
    "\n"
   ]
  },
  {
   "cell_type": "code",
   "execution_count": 42,
   "metadata": {},
   "outputs": [],
   "source": [
    "# Investigate the variance accounted for by each principal component.\n",
    "    \n",
    "# using the existing function that was given in the helper notbook     \n",
    "\n",
    "def plot_pca(pca):\n",
    "\n",
    "    num_components=len(pca.explained_variance_ratio_)\n",
    "    ind = np.arange(num_components)\n",
    "    vals = pca.explained_variance_ratio_\n",
    " \n",
    "    plt.figure(figsize=(15, 10))\n",
    "    ax = plt.subplot(111)\n",
    "    cumvals = np.cumsum(vals)\n",
    "    ax.bar(ind, vals)\n",
    "    ax.plot(ind, cumvals)\n",
    "   \n",
    "\n",
    "    ax.xaxis.set_tick_params(width=0)\n",
    "    ax.yaxis.set_tick_params(width=2, length=12)\n",
    " \n",
    "    ax.set_xlabel(\"Principal Component\")\n",
    "    ax.set_ylabel(\"Variance Explained (%)\")\n",
    "    plt.title('Explained Variance Per Principal Component')\n",
    "    \n",
    "\n",
    "    "
   ]
  },
  {
   "cell_type": "code",
   "execution_count": 43,
   "metadata": {},
   "outputs": [
    {
     "data": {
      "image/png": "[encoded data removed]",
      "text/plain": [
       "<matplotlib.figure.Figure at 0x7f684e386278>"
      ]
     },
     "metadata": {
      "needs_background": "light"
     },
     "output_type": "display_data"
    }
   ],
   "source": [
    "plot_pca(pca)"
   ]
  },
  {
   "cell_type": "code",
   "execution_count": 44,
   "metadata": {},
   "outputs": [],
   "source": [
    "# Re-apply PCA to the data while selecting for number of components to retain.\n",
    "\n",
    "from sklearn.decomposition import PCA\n",
    "\n",
    "pca = PCA(n_components=30)\n",
    "\n",
    "pca_features = pca.fit_transform(azdias_scaled)"
   ]
  },
  {
   "cell_type": "code",
   "execution_count": null,
   "metadata": {},
   "outputs": [],
   "source": [
    "# plot_pca(pca)"
   ]
  },
  {
   "cell_type": "code",
   "execution_count": 45,
   "metadata": {},
   "outputs": [],
   "source": [
    "def pca_results(full_dataset, pca):\n",
    "    '''\n",
    "    Create a DataFrame of the PCA results\n",
    "    Includes dimension feature weights and explained variance\n",
    "    Visualizes the PCA results\n",
    "    '''\n",
    "\n",
    "    # Dimension indexing\n",
    "    dimensions = dimensions = ['PCA {}'.format(i) for i in range(1,len(pca.components_)+1)]\n",
    "\n",
    "    # PCA components\n",
    "    components = pd.DataFrame(np.round(pca.components_, 4), columns = full_dataset.keys())\n",
    "    components.index = dimensions\n",
    "\n",
    "    # PCA explained variance\n",
    "    ratios = pca.explained_variance_ratio_.reshape(len(pca.components_), 1)\n",
    "    variance_ratios = pd.DataFrame(np.round(ratios, 4), columns = ['Explained Variance'])\n",
    "    variance_ratios.index = dimensions\n",
    "\n",
    "#     # Create a bar plot visualization\n",
    "#     fig, ax = plt.subplots(figsize = (14,8))\n",
    "\n",
    "#     # Plot the feature weights as a function of the components\n",
    "#     components.plot(ax = ax, kind = 'bar');\n",
    "#     ax.set_ylabel(\"Feature Weights\")\n",
    "#     ax.set_xticklabels(dimensions, rotation=0)\n",
    "\n",
    "\n",
    "#     # Display the explained variance ratios\n",
    "#     for i, ev in enumerate(pca.explained_variance_ratio_):\n",
    "#         ax.text(i-0.40, ax.get_ylim()[1] + 0.05, \"Explained Variance\\n          %.4f\"%(ev))\n",
    "\n",
    "    # Return a concatenated DataFrame\n",
    "    return pd.concat([variance_ratios, components], axis = 1)\n",
    "\n",
    "\n"
   ]
  },
  {
   "cell_type": "markdown",
   "metadata": {},
   "source": [
    "### Discussion 2.2: Perform Dimensionality Reduction\n",
    "\n",
    "(Double-click this cell and replace this text with your own text, reporting your findings and decisions regarding dimensionality reduction. How many principal components / transformed features are you retaining for the next step of the analysis?)\n",
    "\n",
    "Using pca i was unable to reduce number of features from 68 to 30. with explained varinace around 85%"
   ]
  },
  {
   "cell_type": "markdown",
   "metadata": {},
   "source": [
    "### Step 2.3: Interpret Principal Components\n",
    "\n",
    "Now that we have our transformed principal components, it's a nice idea to check out the weight of each variable on the first few components to see if they can be interpreted in some fashion.\n",
    "\n",
    "As a reminder, each principal component is a unit vector that points in the direction of highest variance (after accounting for the variance captured by earlier principal components). The further a weight is from zero, the more the principal component is in the direction of the corresponding feature. If two features have large weights of the same sign (both positive or both negative), then increases in one tend expect to be associated with increases in the other. To contrast, features with different signs can be expected to show a negative correlation: increases in one variable should result in a decrease in the other.\n",
    "\n",
    "- To investigate the features, you should map each weight to their corresponding feature name, then sort the features according to weight. The most interesting features for each principal component, then, will be those at the beginning and end of the sorted list. Use the data dictionary document to help you understand these most prominent features, their relationships, and what a positive or negative value on the principal component might indicate.\n",
    "- You should investigate and interpret feature associations from the first three principal components in this substep. To help facilitate this, you should write a function that you can call at any time to print the sorted list of feature weights, for the *i*-th principal component. This might come in handy in the next step of the project, when you interpret the tendencies of the discovered clusters."
   ]
  },
  {
   "cell_type": "code",
   "execution_count": null,
   "metadata": {},
   "outputs": [],
   "source": []
  },
  {
   "cell_type": "markdown",
   "metadata": {},
   "source": [
    "#### Tried to use the dataframe that returns from pca_results function but the weights wasn't right, tried to figure it out but found an alternative way"
   ]
  },
  {
   "cell_type": "code",
   "execution_count": null,
   "metadata": {},
   "outputs": [],
   "source": [
    "# def pca_component_error(df,i):\n",
    "#     return df.iloc[i]\n",
    "    "
   ]
  },
  {
   "cell_type": "code",
   "execution_count": null,
   "metadata": {},
   "outputs": [],
   "source": [
    "# pca_component_error(df_components,0)"
   ]
  },
  {
   "cell_type": "code",
   "execution_count": 65,
   "metadata": {},
   "outputs": [
    {
     "data": {
      "text/html": [
       "<div>\n",
       "<style scoped>\n",
       "    .dataframe tbody tr th:only-of-type {\n",
       "        vertical-align: middle;\n",
       "    }\n",
       "\n",
       "    .dataframe tbody tr th {\n",
       "        vertical-align: top;\n",
       "    }\n",
       "\n",
       "    .dataframe thead th {\n",
       "        text-align: right;\n",
       "    }\n",
       "</style>\n",
       "<table border=\"1\" class=\"dataframe\">\n",
       "  <thead>\n",
       "    <tr style=\"text-align: right;\">\n",
       "      <th></th>\n",
       "      <th>ALTERSKATEGORIE_GROB</th>\n",
       "      <th>FINANZ_MINIMALIST</th>\n",
       "      <th>FINANZ_SPARER</th>\n",
       "      <th>FINANZ_VORSORGER</th>\n",
       "      <th>FINANZ_ANLEGER</th>\n",
       "      <th>FINANZ_UNAUFFAELLIGER</th>\n",
       "      <th>FINANZ_HAUSBAUER</th>\n",
       "      <th>HEALTH_TYP</th>\n",
       "      <th>RETOURTYP_BK_S</th>\n",
       "      <th>SEMIO_SOZ</th>\n",
       "      <th>...</th>\n",
       "      <th>GREEN_AVANTGARDE_1</th>\n",
       "      <th>SOHO_KZ_0.0</th>\n",
       "      <th>SOHO_KZ_1.0</th>\n",
       "      <th>OST_WEST_KZ_O</th>\n",
       "      <th>OST_WEST_KZ_W</th>\n",
       "      <th>PRAEGENDE_JUGENDJAHRE DECADE</th>\n",
       "      <th>PRAEGENDE_JUGENDJAHRE MOVEMENT</th>\n",
       "      <th>CAMEO_INTL_2015_WEALTH</th>\n",
       "      <th>CAMEO_INTL_2015_LIFE_STAGE</th>\n",
       "      <th>WOHNLAGE_NEIGHBOOR</th>\n",
       "    </tr>\n",
       "  </thead>\n",
       "  <tbody>\n",
       "    <tr>\n",
       "      <th>0</th>\n",
       "      <td>-0.102393</td>\n",
       "      <td>-0.212026</td>\n",
       "      <td>0.130640</td>\n",
       "      <td>-0.099878</td>\n",
       "      <td>0.059598</td>\n",
       "      <td>0.058215</td>\n",
       "      <td>0.165533</td>\n",
       "      <td>0.025546</td>\n",
       "      <td>-0.009375</td>\n",
       "      <td>0.034786</td>\n",
       "      <td>...</td>\n",
       "      <td>-0.117315</td>\n",
       "      <td>0.002290</td>\n",
       "      <td>-0.002290</td>\n",
       "      <td>0.059220</td>\n",
       "      <td>-0.059220</td>\n",
       "      <td>0.084075</td>\n",
       "      <td>-0.117315</td>\n",
       "      <td>0.206927</td>\n",
       "      <td>-0.122688</td>\n",
       "      <td>0.157380</td>\n",
       "    </tr>\n",
       "    <tr>\n",
       "      <th>1</th>\n",
       "      <td>0.253978</td>\n",
       "      <td>0.062813</td>\n",
       "      <td>-0.230144</td>\n",
       "      <td>0.225271</td>\n",
       "      <td>-0.185016</td>\n",
       "      <td>-0.218307</td>\n",
       "      <td>0.110210</td>\n",
       "      <td>-0.058770</td>\n",
       "      <td>0.150610</td>\n",
       "      <td>-0.131206</td>\n",
       "      <td>...</td>\n",
       "      <td>-0.013068</td>\n",
       "      <td>0.001989</td>\n",
       "      <td>-0.001989</td>\n",
       "      <td>0.022391</td>\n",
       "      <td>-0.022391</td>\n",
       "      <td>-0.243371</td>\n",
       "      <td>-0.013068</td>\n",
       "      <td>0.056015</td>\n",
       "      <td>0.011451</td>\n",
       "      <td>0.047492</td>\n",
       "    </tr>\n",
       "    <tr>\n",
       "      <th>2</th>\n",
       "      <td>0.113108</td>\n",
       "      <td>0.154379</td>\n",
       "      <td>-0.130299</td>\n",
       "      <td>0.124625</td>\n",
       "      <td>-0.204559</td>\n",
       "      <td>-0.123778</td>\n",
       "      <td>-0.024574</td>\n",
       "      <td>-0.022412</td>\n",
       "      <td>0.123832</td>\n",
       "      <td>0.226969</td>\n",
       "      <td>...</td>\n",
       "      <td>0.046732</td>\n",
       "      <td>0.000127</td>\n",
       "      <td>-0.000127</td>\n",
       "      <td>0.018871</td>\n",
       "      <td>-0.018871</td>\n",
       "      <td>-0.132268</td>\n",
       "      <td>0.046732</td>\n",
       "      <td>0.035972</td>\n",
       "      <td>-0.008011</td>\n",
       "      <td>0.041520</td>\n",
       "    </tr>\n",
       "    <tr>\n",
       "      <th>3</th>\n",
       "      <td>-0.046087</td>\n",
       "      <td>0.037041</td>\n",
       "      <td>0.010949</td>\n",
       "      <td>-0.016400</td>\n",
       "      <td>-0.100840</td>\n",
       "      <td>0.087405</td>\n",
       "      <td>-0.084416</td>\n",
       "      <td>0.002687</td>\n",
       "      <td>-0.001746</td>\n",
       "      <td>0.002738</td>\n",
       "      <td>...</td>\n",
       "      <td>0.390020</td>\n",
       "      <td>-0.002326</td>\n",
       "      <td>0.002326</td>\n",
       "      <td>-0.132973</td>\n",
       "      <td>0.132973</td>\n",
       "      <td>0.044010</td>\n",
       "      <td>0.390020</td>\n",
       "      <td>-0.087907</td>\n",
       "      <td>0.033333</td>\n",
       "      <td>0.133633</td>\n",
       "    </tr>\n",
       "    <tr>\n",
       "      <th>4</th>\n",
       "      <td>-0.006103</td>\n",
       "      <td>0.067670</td>\n",
       "      <td>-0.007714</td>\n",
       "      <td>-0.106601</td>\n",
       "      <td>0.066455</td>\n",
       "      <td>-0.084993</td>\n",
       "      <td>-0.022082</td>\n",
       "      <td>-0.004611</td>\n",
       "      <td>-0.056318</td>\n",
       "      <td>0.007923</td>\n",
       "      <td>...</td>\n",
       "      <td>0.096183</td>\n",
       "      <td>-0.002765</td>\n",
       "      <td>0.002765</td>\n",
       "      <td>0.427256</td>\n",
       "      <td>-0.427256</td>\n",
       "      <td>0.028646</td>\n",
       "      <td>0.096183</td>\n",
       "      <td>-0.027231</td>\n",
       "      <td>0.069865</td>\n",
       "      <td>-0.023607</td>\n",
       "    </tr>\n",
       "  </tbody>\n",
       "</table>\n",
       "<p>5 rows × 68 columns</p>\n",
       "</div>"
      ],
      "text/plain": [
       "   ALTERSKATEGORIE_GROB  FINANZ_MINIMALIST  FINANZ_SPARER  FINANZ_VORSORGER  \\\n",
       "0             -0.102393          -0.212026       0.130640         -0.099878   \n",
       "1              0.253978           0.062813      -0.230144          0.225271   \n",
       "2              0.113108           0.154379      -0.130299          0.124625   \n",
       "3             -0.046087           0.037041       0.010949         -0.016400   \n",
       "4             -0.006103           0.067670      -0.007714         -0.106601   \n",
       "\n",
       "   FINANZ_ANLEGER  FINANZ_UNAUFFAELLIGER  FINANZ_HAUSBAUER  HEALTH_TYP  \\\n",
       "0        0.059598               0.058215          0.165533    0.025546   \n",
       "1       -0.185016              -0.218307          0.110210   -0.058770   \n",
       "2       -0.204559              -0.123778         -0.024574   -0.022412   \n",
       "3       -0.100840               0.087405         -0.084416    0.002687   \n",
       "4        0.066455              -0.084993         -0.022082   -0.004611   \n",
       "\n",
       "   RETOURTYP_BK_S  SEMIO_SOZ         ...          GREEN_AVANTGARDE_1  \\\n",
       "0       -0.009375   0.034786         ...                   -0.117315   \n",
       "1        0.150610  -0.131206         ...                   -0.013068   \n",
       "2        0.123832   0.226969         ...                    0.046732   \n",
       "3       -0.001746   0.002738         ...                    0.390020   \n",
       "4       -0.056318   0.007923         ...                    0.096183   \n",
       "\n",
       "   SOHO_KZ_0.0  SOHO_KZ_1.0  OST_WEST_KZ_O  OST_WEST_KZ_W  \\\n",
       "0     0.002290    -0.002290       0.059220      -0.059220   \n",
       "1     0.001989    -0.001989       0.022391      -0.022391   \n",
       "2     0.000127    -0.000127       0.018871      -0.018871   \n",
       "3    -0.002326     0.002326      -0.132973       0.132973   \n",
       "4    -0.002765     0.002765       0.427256      -0.427256   \n",
       "\n",
       "   PRAEGENDE_JUGENDJAHRE DECADE  PRAEGENDE_JUGENDJAHRE MOVEMENT  \\\n",
       "0                      0.084075                       -0.117315   \n",
       "1                     -0.243371                       -0.013068   \n",
       "2                     -0.132268                        0.046732   \n",
       "3                      0.044010                        0.390020   \n",
       "4                      0.028646                        0.096183   \n",
       "\n",
       "   CAMEO_INTL_2015_WEALTH  CAMEO_INTL_2015_LIFE_STAGE  WOHNLAGE_NEIGHBOOR  \n",
       "0                0.206927                   -0.122688            0.157380  \n",
       "1                0.056015                    0.011451            0.047492  \n",
       "2                0.035972                   -0.008011            0.041520  \n",
       "3               -0.087907                    0.033333            0.133633  \n",
       "4               -0.027231                    0.069865           -0.023607  \n",
       "\n",
       "[5 rows x 68 columns]"
      ]
     },
     "execution_count": 65,
     "metadata": {},
     "output_type": "execute_result"
    }
   ],
   "source": [
    "df_pca_weights = pd.DataFrame(pca.components_, columns = azdias_scaled.keys())\n"
   ]
  },
  {
   "cell_type": "code",
   "execution_count": 79,
   "metadata": {},
   "outputs": [],
   "source": [
    "def plot_pca_weights(df,pca_component):\n",
    "\n",
    "    compn = df.iloc[pca_component]\n",
    "    compn.sort_values(ascending=False, inplace = True)\n",
    "    compn = pd.concat([compn.head(5),compn.tail(5)])\n",
    "    compn.plot(kind='bar' , figsize=(8,8))\n"
   ]
  },
  {
   "cell_type": "code",
   "execution_count": 80,
   "metadata": {},
   "outputs": [
    {
     "data": {
      "image/png": "[encoded data removed]",
      "text/plain": [
       "<matplotlib.figure.Figure at 0x7f684db4c518>"
      ]
     },
     "metadata": {
      "needs_background": "light"
     },
     "output_type": "display_data"
    }
   ],
   "source": [
    "# Map weights for the firat principal component to corresponding feature names\n",
    "# and then print the linked values, sorted by weight.\n",
    "plot_pca_weights(df_pca_weights,0)"
   ]
  },
  {
   "cell_type": "code",
   "execution_count": 81,
   "metadata": {},
   "outputs": [
    {
     "data": {
      "image/png": "[encoded data removed]",
      "text/plain": [
       "<matplotlib.figure.Figure at 0x7f684daca518>"
      ]
     },
     "metadata": {
      "needs_background": "light"
     },
     "output_type": "display_data"
    }
   ],
   "source": [
    "# Map weights for the second principal component to corresponding feature names\n",
    "# and then print the linked values, sorted by weight.\n",
    "\n",
    "plot_pca_weights(df_pca_weights,1)"
   ]
  },
  {
   "cell_type": "code",
   "execution_count": 82,
   "metadata": {},
   "outputs": [
    {
     "data": {
      "image/png": "[encoded data removed]",
      "text/plain": [
       "<matplotlib.figure.Figure at 0x7f684dad5e48>"
      ]
     },
     "metadata": {
      "needs_background": "light"
     },
     "output_type": "display_data"
    }
   ],
   "source": [
    "# Map weights for the third principal component to corresponding feature names\n",
    "# and then print the linked values, sorted by weight.\n",
    "\n",
    "plot_pca_weights(df_pca_weights,2)"
   ]
  },
  {
   "cell_type": "markdown",
   "metadata": {},
   "source": [
    "### Discussion 2.3: Interpret Principal Components\n",
    "\n",
    "(Double-click this cell and replace this text with your own text, reporting your observations from detailed investigation of the first few principal components generated. Can we interpret positive and negative values from them in a meaningful way?)\n",
    "\n",
    "#### PCA 1 releated the most to number of members of the family, wealth and family income. These insights come from taking top  positive features:\n",
    "- 'PLZ8_ANTG3' & 'PLZ8_ANTG4' --> number of family from range 3-10. \n",
    "- 'wealth'\n",
    "- 'HH_EINKOMMEN_SCORE' --> household net income\n",
    "\n",
    "\n",
    "#### PCA 2 releated the most to the age, personality and finance things. These insights come from taking top positive features:\n",
    "- 'ALTERSKATEGORIE_GROB' --> AGE\n",
    "- 'SEMIO_ERL' --> Personality typology\n",
    "- 'FINANZ_VORSORGER' --> Financial\n",
    "\n",
    "\n",
    "#### PCA 3 releated the most to the personality and gender. These insights come from taking top positive features:\n",
    "\n",
    "- 'ANREDE_KZ' --> Gender\n",
    "- 'SEMIO_VERT,'SEMIO_SOZ','SEMIO_FAM','SEMIO_KULT' --> personality"
   ]
  },
  {
   "cell_type": "markdown",
   "metadata": {},
   "source": [
    "## Step 3: Clustering\n",
    "\n",
    "### Step 3.1: Apply Clustering to General Population\n",
    "\n",
    "You've assessed and cleaned the demographics data, then scaled and transformed them. Now, it's time to see how the data clusters in the principal components space. In this substep, you will apply k-means clustering to the dataset and use the average within-cluster distances from each point to their assigned cluster's centroid to decide on a number of clusters to keep.\n",
    "\n",
    "- Use sklearn's [KMeans](http://scikit-learn.org/stable/modules/generated/sklearn.cluster.KMeans.html#sklearn.cluster.KMeans) class to perform k-means clustering on the PCA-transformed data.\n",
    "- Then, compute the average difference from each point to its assigned cluster's center. **Hint**: The KMeans object's `.score()` method might be useful here, but note that in sklearn, scores tend to be defined so that larger is better. Try applying it to a small, toy dataset, or use an internet search to help your understanding.\n",
    "- Perform the above two steps for a number of different cluster counts. You can then see how the average distance decreases with an increasing number of clusters. However, each additional cluster provides a smaller net benefit. Use this fact to select a final number of clusters in which to group the data. **Warning**: because of the large size of the dataset, it can take a long time for the algorithm to resolve. The more clusters to fit, the longer the algorithm will take. You should test for cluster counts through at least 10 clusters to get the full picture, but you shouldn't need to test for a number of clusters above about 30.\n",
    "- Once you've selected a final number of clusters to use, re-fit a KMeans instance to perform the clustering operation. Make sure that you also obtain the cluster assignments for the general demographics data, since you'll be using them in the final Step 3.3."
   ]
  },
  {
   "cell_type": "code",
   "execution_count": null,
   "metadata": {},
   "outputs": [],
   "source": [
    "from sklearn.cluster import KMeans\n",
    "\n",
    "scores = []\n",
    "# Over a number of different cluster counts...\n",
    "for k in range(1,11):\n",
    "\n",
    "    # run k-means clustering on the data and...\n",
    "    kmean = KMeans(n_clusters=k)\n",
    "    knn_model = kmean.fit(pca_features)\n",
    "\n",
    "    \n",
    "    # compute the average within-cluster distances.\n",
    "    score = np.abs(knn_model.score(pca_features))\n",
    "    scores.append(score)\n",
    "    print(\"when k={}, score is={}\".format(k,score))\n"
   ]
  },
  {
   "cell_type": "code",
   "execution_count": null,
   "metadata": {},
   "outputs": [],
   "source": [
    "# Investigate the change in within-cluster distance across number of clusters.\n",
    "# HINT: Use matplotlib's plot function to visualize this relationship.\n",
    "\n",
    "plt.plot(np.arange(1,11) , scores)\n",
    "plt.show()"
   ]
  },
  {
   "cell_type": "code",
   "execution_count": 83,
   "metadata": {},
   "outputs": [],
   "source": [
    "# Re-fit the k-means model with the selected number of clusters and obtain\n",
    "# cluster predictions for the general population demographics data.\n",
    "\n",
    "from sklearn.cluster import KMeans\n",
    "\n",
    "kmeans = KMeans(n_clusters=10)\n",
    "model = kmeans.fit(pca_features)\n",
    "proportion_pred = model.predict(pca_features)\n"
   ]
  },
  {
   "cell_type": "markdown",
   "metadata": {},
   "source": [
    "### Discussion 3.1: Apply Clustering to General Population\n",
    "\n",
    "(Double-click this cell and replace this text with your own text, reporting your findings and decisions regarding clustering. Into how many clusters have you decided to segment the population?)\n",
    "\n",
    "It took too many time to run the cell, maybe a different K would be better but i decied to go with 10 clusters"
   ]
  },
  {
   "cell_type": "markdown",
   "metadata": {},
   "source": [
    "### Step 3.2: Apply All Steps to the Customer Data\n",
    "\n",
    "Now that you have clusters and cluster centers for the general population, it's time to see how the customer data maps on to those clusters. Take care to not confuse this for re-fitting all of the models to the customer data. Instead, you're going to use the fits from the general population to clean, transform, and cluster the customer data. In the last step of the project, you will interpret how the general population fits apply to the customer data.\n",
    "\n",
    "- Don't forget when loading in the customers data, that it is semicolon (`;`) delimited.\n",
    "- Apply the same feature wrangling, selection, and engineering steps to the customer demographics using the `clean_data()` function you created earlier. (You can assume that the customer demographics data has similar meaning behind missing data patterns as the general demographics data.)\n",
    "- Use the sklearn objects from the general demographics data, and apply their transformations to the customers data. That is, you should not be using a `.fit()` or `.fit_transform()` method to re-fit the old objects, nor should you be creating new sklearn objects! Carry the data through the feature scaling, PCA, and clustering steps, obtaining cluster assignments for all of the data in the customer demographics data."
   ]
  },
  {
   "cell_type": "code",
   "execution_count": 84,
   "metadata": {},
   "outputs": [],
   "source": [
    "# Load in the customer demographics data.\n",
    "customers = pd.read_csv('Udacity_CUSTOMERS_Subset.csv', sep=';')\n",
    "x = customers"
   ]
  },
  {
   "cell_type": "code",
   "execution_count": 54,
   "metadata": {},
   "outputs": [],
   "source": [
    "# Apply preprocessing, feature transformation, and clustering from the general\n",
    "# demographics onto the customer data, obtaining cluster predictions for the\n",
    "# customer demographics data.\n",
    "\n"
   ]
  },
  {
   "cell_type": "code",
   "execution_count": 85,
   "metadata": {},
   "outputs": [],
   "source": [
    "# Identify missing or unknown data values and convert them to NaNs.\n",
    "for attribute, miss_index in zip(feat_info['attribute'], feat_info['missing_or_unknown']):\n",
    "    missing_values = miss_index.strip('[]').split(',')\n",
    "    missing_values = [int(value) if (value!='X' and value!='XX' and value!='') else value for value in missing_values]\n",
    "    if missing_values != ['']:\n",
    "        x[attribute] = x[attribute].replace(missing_values, np.nan)"
   ]
  },
  {
   "cell_type": "code",
   "execution_count": 86,
   "metadata": {},
   "outputs": [],
   "source": [
    "outlier_columns = ['AGER_TYP', 'GEBURTSJAHR', 'TITEL_KZ', 'ALTER_HH', 'KK_KUNDENTYP', 'KBA05_BAUMAX']\n",
    "x.drop(outlier_columns, axis=1, inplace=True)"
   ]
  },
  {
   "cell_type": "code",
   "execution_count": 87,
   "metadata": {},
   "outputs": [],
   "source": [
    "x_rows_less_miss = x[x.isnull().sum(axis=1) < 25]\n",
    "x_rows_more_miss = x[x.isnull().sum(axis=1) >= 25]"
   ]
  },
  {
   "cell_type": "code",
   "execution_count": 88,
   "metadata": {},
   "outputs": [],
   "source": [
    "x_categorical_fea = feat_info_ind[feat_info_ind['type'] == 'categorical'].index.values\n",
    "\n",
    "x_binary_feature = []\n",
    "x_multi_level_feature = []\n",
    "\n",
    "for col in categorical_fea:\n",
    "    if x[col].nunique() > 2:\n",
    "        x_multi_level_feature.append(col)\n",
    "    else:\n",
    "        x_binary_feature.append(col)\n",
    "        "
   ]
  },
  {
   "cell_type": "code",
   "execution_count": 89,
   "metadata": {},
   "outputs": [],
   "source": [
    "x_binary_feature.remove(\"VERS_TYP\")\n",
    "x_multi_level_feature.append(\"VERS_TYP\")"
   ]
  },
  {
   "cell_type": "code",
   "execution_count": 90,
   "metadata": {},
   "outputs": [],
   "source": [
    "x_v2 = pd.get_dummies(x_rows_less_miss, columns=x_binary_feature)\n",
    "\n",
    "#Droping multi-level feature\n",
    "for feature in x_multi_level_feature:\n",
    "    x_v2 = x_v2.drop(feature, axis=1)"
   ]
  },
  {
   "cell_type": "code",
   "execution_count": 91,
   "metadata": {},
   "outputs": [],
   "source": [
    "df_clean = x_v2"
   ]
  },
  {
   "cell_type": "code",
   "execution_count": 92,
   "metadata": {},
   "outputs": [],
   "source": [
    "df_clean.loc[df_clean['PRAEGENDE_JUGENDJAHRE'].isin([1, 2]),'PRAEGENDE_JUGENDJAHRE DECADE'] = 1\n",
    "df_clean.loc[df_clean['PRAEGENDE_JUGENDJAHRE'].isin([3, 4]),'PRAEGENDE_JUGENDJAHRE DECADE'] = 2\n",
    "df_clean.loc[df_clean['PRAEGENDE_JUGENDJAHRE'].isin([5, 6, 7]),'PRAEGENDE_JUGENDJAHRE DECADE'] = 3\n",
    "df_clean.loc[df_clean['PRAEGENDE_JUGENDJAHRE'].isin([8, 9]),'PRAEGENDE_JUGENDJAHRE DECADE'] = 4\n",
    "df_clean.loc[df_clean['PRAEGENDE_JUGENDJAHRE'].isin([10, 11, 12, 13]),'PRAEGENDE_JUGENDJAHRE DECADE'] = 5\n",
    "df_clean.loc[df_clean['PRAEGENDE_JUGENDJAHRE'].isin([14,15]),'PRAEGENDE_JUGENDJAHRE DECADE'] = 6\n",
    "\n",
    "mainstream = [1, 3, 5, 8, 10, 12, 14]\n",
    "avantgrade = [2, 4, 6, 7, 9, 11, 13, 15]\n",
    "\n",
    "df_clean.loc[df_clean['PRAEGENDE_JUGENDJAHRE'].isin(mainstream),'PRAEGENDE_JUGENDJAHRE MOVEMENT'] = 1\n",
    "df_clean.loc[df_clean['PRAEGENDE_JUGENDJAHRE'].isin(avantgrade),'PRAEGENDE_JUGENDJAHRE MOVEMENT'] = 2\n",
    "    \n",
    "    \n",
    "    \n",
    "wealth_dict = {'11':1, '12':1, '13':1, '14':1, '15':1, \n",
    "               \n",
    "               '21':2, '22':2, '23':2, '24':2, '25':2,\n",
    "               \n",
    "               '31':3, '32':3, '33':3, '34':3, '35':3, \n",
    "               \n",
    "               '41':4, '42':4, '43':4, '44':4, '45':4,\n",
    "               \n",
    "               '51':5, '52':5, '53':5, '54':5, '55':5}\n",
    "\n",
    "\n",
    "\n",
    "life_stage_dict = {'11':1, '21':1,'31':1,'51':1,'41':1,\n",
    "                   \n",
    "                   '12':2,'32':2,'52':2,'42':2,'22':2,\n",
    "                   \n",
    "                   '13':3,'33':3,'53':3,'43':3,'23':3, \n",
    "                   \n",
    "                   '14':4,'34':4,'54':4,'24':4,'44':4,\n",
    "                   \n",
    "                   '25':5,'15':5,'35':5,'45':5,'55':5}\n",
    "\n",
    "    \n",
    "df_clean['CAMEO_INTL_2015_WEALTH'] = df_clean['CAMEO_INTL_2015']\n",
    "df_clean['CAMEO_INTL_2015_LIFE_STAGE'] = df_clean['CAMEO_INTL_2015']\n",
    "\n",
    "df_clean['CAMEO_INTL_2015_WEALTH'].replace(wealth_dict, inplace=True)\n",
    "df_clean['CAMEO_INTL_2015_LIFE_STAGE'].replace(life_stage_dict, inplace=True)\n",
    "    \n",
    "    \n",
    "neighboor = {0:0, 7:0, 8:0,\n",
    "             \n",
    "                1:1, 2:1, 3:1,\n",
    "            \n",
    "                4:2, 5:2,}\n",
    "\n",
    "\n",
    "df_clean['WOHNLAGE_NEIGHBOOR'] = df_clean['WOHNLAGE']\n",
    "\n",
    "df_clean['WOHNLAGE_NEIGHBOOR'].replace(neighboor, inplace=True)\n",
    "\n",
    "    \n",
    "df_clean.drop('CAMEO_INTL_2015', axis=1, inplace=True)\n",
    "df_clean.drop('PRAEGENDE_JUGENDJAHRE', axis=1, inplace=True)\n",
    "df_clean.drop('WOHNLAGE', axis=1, inplace=True)\n",
    "df_clean.drop('PLZ8_BAUMAX', axis=1, inplace=True)\n",
    "df_clean.drop('LP_LEBENSPHASE_GROB', axis=1, inplace=True)\n",
    "df_clean.drop('LP_LEBENSPHASE_FEIN', axis=1, inplace=True)"
   ]
  },
  {
   "cell_type": "code",
   "execution_count": 93,
   "metadata": {},
   "outputs": [],
   "source": [
    "customers_v2 = df_clean"
   ]
  },
  {
   "cell_type": "code",
   "execution_count": 94,
   "metadata": {},
   "outputs": [],
   "source": [
    "from sklearn.preprocessing import StandardScaler, Imputer\n",
    "from sklearn.preprocessing import StandardScaler\n",
    "from sklearn.decomposition import PCA\n",
    "\n",
    "\n",
    "imputer = Imputer(strategy='median')\n",
    "customers_imputer_data = imputer.fit_transform(customers_v2)\n",
    "\n",
    "\n",
    "\n",
    "customer_scaler = StandardScaler()\n",
    "customers__scaled = pd.DataFrame(scaler.fit_transform(customers_imputer_data), columns=customers_v2.columns)\n",
    "\n",
    "\n",
    "customers_pca_features = pca.transform(customers__scaled)\n"
   ]
  },
  {
   "cell_type": "code",
   "execution_count": 95,
   "metadata": {},
   "outputs": [],
   "source": [
    "customer_pred = model.predict(customers_pca_features)"
   ]
  },
  {
   "cell_type": "markdown",
   "metadata": {},
   "source": [
    "### Step 3.3: Compare Customer Data to Demographics Data\n",
    "\n",
    "At this point, you have clustered data based on demographics of the general population of Germany, and seen how the customer data for a mail-order sales company maps onto those demographic clusters. In this final substep, you will compare the two cluster distributions to see where the strongest customer base for the company is.\n",
    "\n",
    "Consider the proportion of persons in each cluster for the general population, and the proportions for the customers. If we think the company's customer base to be universal, then the cluster assignment proportions should be fairly similar between the two. If there are only particular segments of the population that are interested in the company's products, then we should see a mismatch from one to the other. If there is a higher proportion of persons in a cluster for the customer data compared to the general population (e.g. 5% of persons are assigned to a cluster for the general population, but 15% of the customer data is closest to that cluster's centroid) then that suggests the people in that cluster to be a target audience for the company. On the other hand, the proportion of the data in a cluster being larger in the general population than the customer data (e.g. only 2% of customers closest to a population centroid that captures 6% of the data) suggests that group of persons to be outside of the target demographics.\n",
    "\n",
    "Take a look at the following points in this step:\n",
    "\n",
    "- Compute the proportion of data points in each cluster for the general population and the customer data. Visualizations will be useful here: both for the individual dataset proportions, but also to visualize the ratios in cluster representation between groups. Seaborn's [`countplot()`](https://seaborn.pydata.org/generated/seaborn.countplot.html) or [`barplot()`](https://seaborn.pydata.org/generated/seaborn.barplot.html) function could be handy.\n",
    "  - Recall the analysis you performed in step 1.1.3 of the project, where you separated out certain data points from the dataset if they had more than a specified threshold of missing values. If you found that this group was qualitatively different from the main bulk of the data, you should treat this as an additional data cluster in this analysis. Make sure that you account for the number of data points in this subset, for both the general population and customer datasets, when making your computations!\n",
    "- Which cluster or clusters are overrepresented in the customer dataset compared to the general population? Select at least one such cluster and infer what kind of people might be represented by that cluster. Use the principal component interpretations from step 2.3 or look at additional components to help you make this inference. Alternatively, you can use the `.inverse_transform()` method of the PCA and StandardScaler objects to transform centroids back to the original data space and interpret the retrieved values directly.\n",
    "- Perform a similar investigation for the underrepresented clusters. Which cluster or clusters are underrepresented in the customer dataset compared to the general population, and what kinds of people are typified by these clusters?"
   ]
  },
  {
   "cell_type": "code",
   "execution_count": 97,
   "metadata": {},
   "outputs": [
    {
     "data": {
      "text/plain": [
       "Text(0.5,0,'Cluster')"
      ]
     },
     "execution_count": 97,
     "metadata": {},
     "output_type": "execute_result"
    },
    {
     "data": {
      "image/png": "[encoded data removed]",
      "text/plain": [
       "<matplotlib.figure.Figure at 0x7f6852f04f98>"
      ]
     },
     "metadata": {
      "needs_background": "light"
     },
     "output_type": "display_data"
    }
   ],
   "source": [
    "# Compare the proportion of data in each cluster for the customer data to the\n",
    "# proportion of data in each cluster for the general population.\n",
    "\n",
    "\n",
    "fig,(ax1, ax2) = plt.subplots(ncols=2, figsize=(18, 8))\n",
    "\n",
    "ax1.set_title('General Proportions.')\n",
    "sns.countplot(proportion_pred, ax=ax1)\n",
    "\n",
    "ax2.set_title('Customer proporations.')\n",
    "sns.countplot(customer_pred, ax=ax2)\n",
    "\n",
    "ax1.set_xlabel('Cluster')\n",
    "ax2.set_xlabel('Cluster')"
   ]
  },
  {
   "cell_type": "code",
   "execution_count": 99,
   "metadata": {},
   "outputs": [
    {
     "data": {
      "image/png": "[encoded data removed]",
      "text/plain": [
       "<matplotlib.figure.Figure at 0x7f684ddea6a0>"
      ]
     },
     "metadata": {
      "needs_background": "light"
     },
     "output_type": "display_data"
    }
   ],
   "source": [
    "general_proportions = []\n",
    "customers_proportions = []\n",
    "\n",
    "for i in range(11):\n",
    "    general_proportions.append((proportion_pred == i).sum()/len(proportion_pred))\n",
    "    customers_proportions.append((customer_pred == i).sum()/len(customer_pred))\n",
    "\n",
    "x = [i for i in range(11)]\n",
    "df_compare = pd.DataFrame({'Cluster' : x, 'General Proportions' : general_proportions, 'Customers Proportions':customers_proportions})\n",
    "\n",
    "df_compare.plot(x='Cluster', y = ['General Proportions', 'Customers Proportions'], kind='bar', figsize=(10,8))\n",
    "plt.ylabel('Proportion of data in each cluster')\n",
    "plt.show()\n",
    "\n"
   ]
  },
  {
   "cell_type": "code",
   "execution_count": 101,
   "metadata": {},
   "outputs": [
    {
     "data": {
      "text/plain": [
       "ALTERSKATEGORIE_GROB                3.857345\n",
       "FINANZ_MINIMALIST                   5.290307\n",
       "FINANZ_SPARER                       0.911957\n",
       "FINANZ_VORSORGER                    4.979586\n",
       "FINANZ_ANLEGER                      1.143521\n",
       "FINANZ_UNAUFFAELLIGER               1.373150\n",
       "FINANZ_HAUSBAUER                    1.817240\n",
       "HEALTH_TYP                          2.104158\n",
       "RETOURTYP_BK_S                      4.197644\n",
       "SEMIO_SOZ                           4.665619\n",
       "SEMIO_FAM                           4.430608\n",
       "SEMIO_REL                           2.940604\n",
       "SEMIO_MAT                           3.171030\n",
       "SEMIO_VERT                          6.682409\n",
       "SEMIO_LUST                          5.819845\n",
       "SEMIO_ERL                           4.551718\n",
       "SEMIO_KULT                          4.583298\n",
       "SEMIO_RAT                           1.845800\n",
       "SEMIO_KRIT                          2.944557\n",
       "SEMIO_DOM                           2.799308\n",
       "SEMIO_KAEM                          1.960802\n",
       "SEMIO_PFLICHT                       2.327910\n",
       "SEMIO_TRADV                         2.310437\n",
       "ANZ_PERSONEN                        2.334994\n",
       "ANZ_TITEL                           0.015523\n",
       "HH_EINKOMMEN_SCORE                  2.671771\n",
       "W_KEIT_KIND_HH                      4.457044\n",
       "WOHNDAUER_2008                      8.831196\n",
       "ANZ_HAUSHALTE_AKTIV                 0.011862\n",
       "ANZ_HH_TITEL                        0.010346\n",
       "                                     ...    \n",
       "EWDICHTE                            2.551710\n",
       "INNENSTADT                          6.019145\n",
       "GEBAEUDETYP_RASTER                  4.116690\n",
       "KKK                                 2.553314\n",
       "MOBI_REGIO                          4.479156\n",
       "ONLINE_AFFINITAET                   2.950703\n",
       "REGIOTYP                            4.064753\n",
       "KBA13_ANZAHL_PKW                  717.045879\n",
       "PLZ8_ANTG1                          3.147125\n",
       "PLZ8_ANTG2                          2.270462\n",
       "PLZ8_ANTG3                          0.717368\n",
       "PLZ8_ANTG4                          0.090747\n",
       "PLZ8_HHZ                            3.370351\n",
       "PLZ8_GBZ                            4.039048\n",
       "ARBEIT                              2.313188\n",
       "ORTSGR_KLS9                         3.301236\n",
       "RELAT_AB                            2.171572\n",
       "ANREDE_KZ_1.0                       1.094651\n",
       "ANREDE_KZ_2.0                      -0.094651\n",
       "GREEN_AVANTGARDE_0                  0.767715\n",
       "GREEN_AVANTGARDE_1                  0.232285\n",
       "SOHO_KZ_0.0                         0.999251\n",
       "SOHO_KZ_1.0                         0.000749\n",
       "OST_WEST_KZ_O                       0.067755\n",
       "OST_WEST_KZ_W                       0.932245\n",
       "PRAEGENDE_JUGENDJAHRE DECADE        2.289655\n",
       "PRAEGENDE_JUGENDJAHRE MOVEMENT      1.241492\n",
       "CAMEO_INTL_2015_WEALTH              1.900208\n",
       "CAMEO_INTL_2015_LIFE_STAGE          3.707176\n",
       "WOHNLAGE_NEIGHBOOR                  0.496452\n",
       "Length: 68, dtype: float64"
      ]
     },
     "execution_count": 101,
     "metadata": {},
     "output_type": "execute_result"
    }
   ],
   "source": [
    "# What kinds of people are part of a cluster that is overrepresented in the\n",
    "# customer data compared to the general population?\n",
    "\n",
    "overrepresented_people = scaler.inverse_transform(pca.inverse_transform(model.cluster_centers_[6]))\n",
    "overrepresented = pd.Series(data = overrepresented_people, index = customers_v2.columns)\n",
    "\n",
    "overrepresented"
   ]
  },
  {
   "cell_type": "code",
   "execution_count": 102,
   "metadata": {},
   "outputs": [
    {
     "data": {
      "text/plain": [
       "ALTERSKATEGORIE_GROB                2.707928\n",
       "FINANZ_MINIMALIST                   2.892397\n",
       "FINANZ_SPARER                       2.292266\n",
       "FINANZ_VORSORGER                    3.818599\n",
       "FINANZ_ANLEGER                      2.466463\n",
       "FINANZ_UNAUFFAELLIGER               2.582436\n",
       "FINANZ_HAUSBAUER                    3.718677\n",
       "HEALTH_TYP                          1.938970\n",
       "RETOURTYP_BK_S                      3.335029\n",
       "SEMIO_SOZ                           3.520856\n",
       "SEMIO_FAM                           3.737097\n",
       "SEMIO_REL                           4.232473\n",
       "SEMIO_MAT                           4.570668\n",
       "SEMIO_VERT                          3.349576\n",
       "SEMIO_LUST                          4.598964\n",
       "SEMIO_ERL                           4.604802\n",
       "SEMIO_KULT                          3.894526\n",
       "SEMIO_RAT                           4.775587\n",
       "SEMIO_KRIT                          4.876382\n",
       "SEMIO_DOM                           5.385627\n",
       "SEMIO_KAEM                          5.362968\n",
       "SEMIO_PFLICHT                       4.566021\n",
       "SEMIO_TRADV                         4.317622\n",
       "ANZ_PERSONEN                        1.965562\n",
       "ANZ_TITEL                           0.015622\n",
       "HH_EINKOMMEN_SCORE                  4.526188\n",
       "W_KEIT_KIND_HH                      4.184683\n",
       "WOHNDAUER_2008                      8.301675\n",
       "ANZ_HAUSHALTE_AKTIV                11.026230\n",
       "ANZ_HH_TITEL                        0.097354\n",
       "                                     ...    \n",
       "EWDICHTE                            5.073804\n",
       "INNENSTADT                          3.581724\n",
       "GEBAEUDETYP_RASTER                  3.525829\n",
       "KKK                                 2.539744\n",
       "MOBI_REGIO                          2.569891\n",
       "ONLINE_AFFINITAET                   3.166433\n",
       "REGIOTYP                            4.541726\n",
       "KBA13_ANZAHL_PKW                  566.869824\n",
       "PLZ8_ANTG1                          1.831951\n",
       "PLZ8_ANTG2                          3.206717\n",
       "PLZ8_ANTG3                          2.099365\n",
       "PLZ8_ANTG4                          1.030544\n",
       "PLZ8_HHZ                            3.762489\n",
       "PLZ8_GBZ                            3.035723\n",
       "ARBEIT                              3.328693\n",
       "ORTSGR_KLS9                         6.705886\n",
       "RELAT_AB                            3.586642\n",
       "ANREDE_KZ_1.0                       0.213348\n",
       "ANREDE_KZ_2.0                       0.786652\n",
       "GREEN_AVANTGARDE_0                  0.726636\n",
       "GREEN_AVANTGARDE_1                  0.273364\n",
       "SOHO_KZ_0.0                         0.999257\n",
       "SOHO_KZ_1.0                         0.000743\n",
       "OST_WEST_KZ_O                       0.113960\n",
       "OST_WEST_KZ_W                       0.886040\n",
       "PRAEGENDE_JUGENDJAHRE DECADE        4.010456\n",
       "PRAEGENDE_JUGENDJAHRE MOVEMENT      1.282569\n",
       "CAMEO_INTL_2015_WEALTH              3.614033\n",
       "CAMEO_INTL_2015_LIFE_STAGE          2.628700\n",
       "WOHNLAGE_NEIGHBOOR                  1.271184\n",
       "Length: 68, dtype: float64"
      ]
     },
     "execution_count": 102,
     "metadata": {},
     "output_type": "execute_result"
    }
   ],
   "source": [
    "# What kinds of people are part of a cluster that is underrepresented in the\n",
    "# customer data compared to the general population?\n",
    "\n",
    "underrepresented_people = scaler.inverse_transform(pca.inverse_transform(model.cluster_centers_[4]))\n",
    "underrepresented = pd.Series(data = underrepresented_people, index = customers_v2.columns)\n",
    "\n",
    "underrepresented"
   ]
  },
  {
   "cell_type": "markdown",
   "metadata": {},
   "source": [
    "### Discussion 3.3: Compare Customer Data to Demographics Data\n",
    "\n",
    "(Double-click this cell and replace this text with your own text, reporting findings and conclusions from the clustering analysis. Can we describe segments of the population that are relatively popular with the mail-order company, or relatively unpopular with the company?)\n",
    "\n",
    "\n",
    "From the above plots, we can come with:\n",
    "- **overrepresented** people are which mostly in cluster6:\n",
    "Age is less than 60 based on(ALTERSKATEGORIE_GROB), finance typology is high based on(FINANZ-{avg}), length of residence more than 10 years based on(WOHNDAUER_2008), Wealthy Households based on(CAMEO_INTL_2015_WEALTH), very high net income based on (HH_EINKOMMEN_SCORE).\n",
    "\n",
    "\n",
    "\n",
    "- **underrepresented** people are which mostly in cluster6:\n",
    "\n",
    "one adult in household based on(ANZ_PERSONEN), finance typology is low based on(FINANZ-{avg}) with no professional academic title based on(ANZ_TITEL) and average to lower net income(HH_EINKOMMEN_SCORE)\n",
    "\n"
   ]
  },
  {
   "cell_type": "markdown",
   "metadata": {},
   "source": [
    "> Congratulations on making it this far in the project! Before you finish, make sure to check through the entire notebook from top to bottom to make sure that your analysis follows a logical flow and all of your findings are documented in **Discussion** cells. Once you've checked over all of your work, you should export the notebook as an HTML document to submit for evaluation. You can do this from the menu, navigating to **File -> Download as -> HTML (.html)**. You will submit both that document and this notebook for your project submission."
   ]
  },
  {
   "cell_type": "code",
   "execution_count": null,
   "metadata": {},
   "outputs": [],
   "source": []
  }
 ],
 "metadata": {
  "kernelspec": {
   "display_name": "Python 3",
   "language": "python",
   "name": "python3"
  },
  "language_info": {
   "codemirror_mode": {
    "name": "ipython",
    "version": 3
   },
   "file_extension": ".py",
   "mimetype": "text/x-python",
   "name": "python",
   "nbconvert_exporter": "python",
   "pygments_lexer": "ipython3",
   "version": "3.6.3"
  }
 },
 "nbformat": 4,
 "nbformat_minor": 2
}
